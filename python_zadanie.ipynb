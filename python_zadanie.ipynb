{
 "cells": [
  {
   "cell_type": "markdown",
   "id": "55193850",
   "metadata": {},
   "source": [
    "**Jak działają napisy w Pythonie?\n",
    "(uzupełnij kod, aby wykonać poprawnie)**"
   ]
  },
  {
   "cell_type": "code",
   "execution_count": 6,
   "id": "8cff0dbc",
   "metadata": {},
   "outputs": [
    {
     "name": "stdout",
     "output_type": "stream",
     "text": [
      "alamakota\n"
     ]
    }
   ],
   "source": [
    "napisy = ['ala', 'ma', 'kota']\n",
    "# Wynik: alamakota\n",
    "print(''.join(napisy))\n"
   ]
  },
  {
   "cell_type": "code",
   "execution_count": 10,
   "id": "0c7e5318",
   "metadata": {},
   "outputs": [
    {
     "data": {
      "text/plain": [
       "False"
      ]
     },
     "execution_count": 10,
     "metadata": {},
     "output_type": "execute_result"
    }
   ],
   "source": [
    "#odwróć napis\n",
    "napis = \"tango\"\n",
    "napis == ''.join(napis[::-1]) # Sprawdzenie czy wyraz to palindrom\n",
    "#sprawdź, czy wyraz to palindrom"
   ]
  },
  {
   "cell_type": "code",
   "execution_count": 11,
   "id": "43111938",
   "metadata": {},
   "outputs": [
    {
     "name": "stdout",
     "output_type": "stream",
     "text": [
      "Tomek ma 10 lat\n"
     ]
    }
   ],
   "source": [
    "#z poniższych zmiennych utwórz napis: \"Tomek ma 10 lat.\"\n",
    "name = 'Tomek'\n",
    "wiek = 10\n",
    "print(f\"{name} ma {wiek} lat\")"
   ]
  },
  {
   "cell_type": "markdown",
   "id": "a317e98d",
   "metadata": {},
   "source": [
    "**Co to są F-strings i jak działają?**"
   ]
  },
  {
   "cell_type": "code",
   "execution_count": 12,
   "id": "1eb24245",
   "metadata": {},
   "outputs": [
    {
     "name": "stdout",
     "output_type": "stream",
     "text": [
      "Nazywam się Tomek i mam 10 lat.\n"
     ]
    }
   ],
   "source": [
    "#wypisać za pomocą F-strings\n",
    "name = \"Tomek\"\n",
    "age = 10\n",
    "\n",
    "#Wynik: \"Nazywam się Tomek i mam 10 lat.\"\n",
    "print(f\"Nazywam się {name} i mam {age} lat.\")"
   ]
  },
  {
   "cell_type": "code",
   "execution_count": 3,
   "id": "1393d25f",
   "metadata": {},
   "outputs": [
    {
     "name": "stdout",
     "output_type": "stream",
     "text": [
      "3.142\n",
      "pi=3.142\n"
     ]
    }
   ],
   "source": [
    "#Napisz po zaokrągleniu \"pi=3.142\"\n",
    "pi = 3.141592\n",
    "print(round(pi, 3))\n",
    "print(f\"{pi=:.3f}\")"
   ]
  },
  {
   "cell_type": "code",
   "execution_count": 4,
   "id": "2bc8caf4",
   "metadata": {},
   "outputs": [
    {
     "name": "stdout",
     "output_type": "stream",
     "text": [
      "1.000.000.000\n",
      "n=1,000,000,000\n"
     ]
    }
   ],
   "source": [
    "#wypisz poniższą liczbę przedzielając kropką kolejne tysiące\n",
    "n = 1000000000\n",
    "print(f\"{n:,}\".replace(',', '.'))\n",
    "print(f\"{n=:,}\")"
   ]
  },
  {
   "cell_type": "markdown",
   "id": "d72ad411",
   "metadata": {},
   "source": [
    "**Jak działa operator .format()?**"
   ]
  },
  {
   "cell_type": "code",
   "execution_count": 32,
   "id": "eab00cb8",
   "metadata": {},
   "outputs": [
    {
     "name": "stdout",
     "output_type": "stream",
     "text": [
      "1234.5678 ==> 1234.57\n",
      "0xff ==> 255\n"
     ]
    }
   ],
   "source": [
    "#Używając operatora format() wypisz:\n",
    "#a) 1234.5678 do dwóch miejsc po przecinku\n",
    "print(\"1234.5678 ==> {:.2f}\".format(1234.5678))\n",
    "\n",
    "#b) 0xff dziesiętnie\n",
    "print(\"0xff ==>\", int(0xff))"
   ]
  },
  {
   "cell_type": "markdown",
   "id": "7940eb54",
   "metadata": {},
   "source": [
    "**Jak wypisać za pomocą \"print\" kilka obiektów z zadanym separatorem i zakończeniem?**"
   ]
  },
  {
   "cell_type": "code",
   "execution_count": 33,
   "id": "43967441",
   "metadata": {},
   "outputs": [
    {
     "name": "stdout",
     "output_type": "stream",
     "text": [
      "a=>b=>c#"
     ]
    }
   ],
   "source": [
    "#np. \"a\", \"b\", \"c\"\n",
    "print(\"a\", \"b\", \"c\", sep=\"=>\", end=\"#\")"
   ]
  },
  {
   "cell_type": "markdown",
   "id": "5f74b42b",
   "metadata": {},
   "source": [
    "**Czy w Pythonie jest operator := ? Jak się nazywa? Jak go użyć?**"
   ]
  },
  {
   "cell_type": "code",
   "execution_count": 39,
   "id": "939eb1ac",
   "metadata": {},
   "outputs": [
    {
     "name": "stdout",
     "output_type": "stream",
     "text": [
      "List is too long (5 elements, expected <= 10)\n"
     ]
    }
   ],
   "source": [
    "\"\"\"\n",
    ":= - operator przypisania z wyrażenia/ walrus operator\n",
    "\n",
    "Pozwala przypisać wartość do wyrażenia w trakcie działania wyrażeń np. if, while\n",
    "\"\"\"\n",
    "a = \"sdada\"\n",
    "if (n := len(a)) > 2:\n",
    "    print(f\"List is too long ({n} elements, expected <= 10)\")"
   ]
  },
  {
   "cell_type": "markdown",
   "id": "e7b6fc13",
   "metadata": {},
   "source": [
    "**Jak maksymalnie skrócić poniższe?**"
   ]
  },
  {
   "cell_type": "code",
   "execution_count": 5,
   "id": "b97ce373",
   "metadata": {},
   "outputs": [
    {
     "name": "stdout",
     "output_type": "stream",
     "text": [
      "x is between 3 and 10\n"
     ]
    }
   ],
   "source": [
    "x = 5\n",
    "if 3< x <10:\n",
    "    print(\"x is between 3 and 10\")"
   ]
  },
  {
   "cell_type": "markdown",
   "id": "9e2124d7",
   "metadata": {},
   "source": [
    "**Czy możliwe jest wielokrotne przypisanie?**"
   ]
  },
  {
   "cell_type": "code",
   "execution_count": 40,
   "id": "47b04b9b",
   "metadata": {},
   "outputs": [
    {
     "name": "stdout",
     "output_type": "stream",
     "text": [
      "1 2 3\n"
     ]
    }
   ],
   "source": [
    "a, b, c = 1, 2, 3\n",
    "print(a, b, c)"
   ]
  },
  {
   "cell_type": "markdown",
   "id": "57a961f0",
   "metadata": {},
   "source": [
    "**Co to są shenanigans?**"
   ]
  },
  {
   "cell_type": "code",
   "execution_count": 41,
   "id": "25177029",
   "metadata": {},
   "outputs": [
    {
     "name": "stdout",
     "output_type": "stream",
     "text": [
      "10\n"
     ]
    }
   ],
   "source": [
    "# to „sztuczki”, „kombinacje”, „nietypowe lub podchwytliwe zachowania” w kodzie.\n",
    "\n",
    "a = 0 or 5 and 10\n",
    "print(a)"
   ]
  },
  {
   "cell_type": "markdown",
   "id": "2908adce",
   "metadata": {},
   "source": [
    "**Jak działają poniższe operatory? Jaki jest wynik działania?**"
   ]
  },
  {
   "cell_type": "markdown",
   "id": "0e01da95-45f0-4e28-8257-6384687a1a98",
   "metadata": {},
   "source": [
    "* `~` — bitowy negator (NOT): `~x` = `-(x + 1)`\n",
    "* `<<`, `>>` — przesunięcia bitowe w lewo i w prawo\n",
    "* `|` — bitowe OR\n",
    "* `&` — bitowe AND\n",
    "* `^` — bitowe XOR"
   ]
  },
  {
   "cell_type": "code",
   "execution_count": null,
   "id": "02eec174-202d-4f0b-86fb-706d22f5be25",
   "metadata": {},
   "outputs": [],
   "source": [
    "x = 9\n",
    "\n",
    "# Cztery negacje ~~~~x to po prostu x (9)\n",
    "step1 = x  # 9\n",
    "\n",
    "# Przesunięcia bitowe:\n",
    "step2 = step1 << 5  # 9 << 5 = 288\n",
    "step3 = step2 >> 2  # 288 >> 2 = 72\n",
    "step4 = step3 << 5  # 72 << 5 = 2304\n",
    "step5 = step4 >> 8  # 2304 >> 8 = 9\n",
    "\n",
    "# Operacje bitowe po prawej stronie:\n",
    "step6 = 9 & 9  # 9 & 9 = 9\n",
    "step7 = step6 ^ 16  # 9 ^ 16 = 25\n",
    "step8 = step7 ^ 16  # 25 ^ 16 = 9\n",
    "\n",
    "# Końcowe OR:\n",
    "result = step5 | step8  # 9 | 9 = 9"
   ]
  },
  {
   "cell_type": "code",
   "execution_count": 43,
   "id": "e0adc475",
   "metadata": {},
   "outputs": [
    {
     "name": "stdout",
     "output_type": "stream",
     "text": [
      "9\n"
     ]
    }
   ],
   "source": [
    "x = 9\n",
    "x = ~~~~x << 5 >> 2 << 5 >> 8 | 9 & 9 ^ 16 ^ 16\n",
    "print(x)"
   ]
  },
  {
   "cell_type": "markdown",
   "id": "27a8f2df",
   "metadata": {},
   "source": [
    "**Jak sprawdzić, czy\n",
    "a) wszystkie elementy\n",
    "b) przynajmniej jeden element\n",
    "struktury iteracyjnej są/jest True?**"
   ]
  },
  {
   "cell_type": "code",
   "execution_count": 45,
   "id": "c41ac3b1",
   "metadata": {},
   "outputs": [
    {
     "name": "stdout",
     "output_type": "stream",
     "text": [
      "True\n"
     ]
    }
   ],
   "source": [
    "x = 5\n",
    "y = 10\n",
    "conditions = [x < 10, y > 5, x + y == 15]\n",
    "\n",
    "result = all(conditions) # Sprawdzenie czy wszystkie elementy są True\n",
    "\n",
    "print(result)"
   ]
  },
  {
   "cell_type": "code",
   "execution_count": 46,
   "id": "f6541098-249e-4db7-be80-a1eeafc30421",
   "metadata": {},
   "outputs": [
    {
     "name": "stdout",
     "output_type": "stream",
     "text": [
      "False\n"
     ]
    }
   ],
   "source": [
    "x = 5\n",
    "y = 10\n",
    "conditions = [x > 10, y < 5, x + y != 15]\n",
    "\n",
    "result = any(conditions) # Sprawdzenie czy jakikolwiek element jest True\n",
    "\n",
    "print(result)"
   ]
  },
  {
   "cell_type": "markdown",
   "id": "f901a1ef",
   "metadata": {},
   "source": [
    "**Jak sprawdzić przynależność do klasy/typu?**"
   ]
  },
  {
   "cell_type": "code",
   "execution_count": 48,
   "id": "d2ceb70d",
   "metadata": {},
   "outputs": [
    {
     "name": "stdout",
     "output_type": "stream",
     "text": [
      "True\n"
     ]
    },
    {
     "data": {
      "text/plain": [
       "int"
      ]
     },
     "execution_count": 48,
     "metadata": {},
     "output_type": "execute_result"
    }
   ],
   "source": [
    "s = 'test'\n",
    "num = 123\n",
    "\n",
    "print(isinstance(s, str)) # Sprawdzenie, czy obiekt s jest instancją klasy str\n",
    "type(num) # Sprawdzenie, typu obiektu num"
   ]
  },
  {
   "cell_type": "markdown",
   "id": "83b515f4",
   "metadata": {},
   "source": [
    "**Co zrobi poniżej operator _?**"
   ]
  },
  {
   "cell_type": "code",
   "execution_count": 6,
   "id": "c0fdccee",
   "metadata": {},
   "outputs": [
    {
     "data": {
      "text/plain": [
       "30"
      ]
     },
     "execution_count": 6,
     "metadata": {},
     "output_type": "execute_result"
    }
   ],
   "source": [
    "10 + 20"
   ]
  },
  {
   "cell_type": "markdown",
   "id": "344b0c57-93e2-4e38-92cc-612a5c00615a",
   "metadata": {},
   "source": [
    "_ - operator przechowuje ostatnią wynikowa wartość w interpreterze."
   ]
  },
  {
   "cell_type": "code",
   "execution_count": 7,
   "id": "b21cf503",
   "metadata": {},
   "outputs": [
    {
     "data": {
      "text/plain": [
       "60"
      ]
     },
     "execution_count": 7,
     "metadata": {},
     "output_type": "execute_result"
    }
   ],
   "source": [
    "_ * 2"
   ]
  },
  {
   "cell_type": "markdown",
   "id": "8bf01add",
   "metadata": {},
   "source": [
    "**Co robią operatory a) // i b) dwie gwiazdki?**"
   ]
  },
  {
   "cell_type": "code",
   "execution_count": 55,
   "id": "7351e9ad",
   "metadata": {},
   "outputs": [
    {
     "name": "stdout",
     "output_type": "stream",
     "text": [
      "3\n",
      "36\n"
     ]
    }
   ],
   "source": [
    "print(10//3) # // zwraca całkowitą część ilorazu\n",
    "print(6**2) # ** zwraca wynik potęgowania"
   ]
  },
  {
   "cell_type": "markdown",
   "id": "504c6afd",
   "metadata": {},
   "source": [
    "**Czy w Pythonie są zmienne lokalne i globalne? Jeśli tak, zademonstrować.**"
   ]
  },
  {
   "cell_type": "code",
   "execution_count": 24,
   "id": "2581c188",
   "metadata": {},
   "outputs": [
    {
     "name": "stdout",
     "output_type": "stream",
     "text": [
      "5\n",
      "5\n"
     ]
    }
   ],
   "source": [
    "x = 5 # zmienna globalna\n",
    "\n",
    "def get_x_info(c):\n",
    "    global x\n",
    "    x = 3\n",
    "    print(f\"zmienna x wynosi: {c}\")\n",
    "\n",
    "print(x)\n",
    "# get_x_info(x)\n",
    "\n",
    "def get_squared_x():\n",
    "    x = 10 # zmienna lokalna\n",
    "    return x**2\n",
    "    \n",
    "# get_x_info(get_squared_x())\n",
    "print(x)"
   ]
  },
  {
   "cell_type": "markdown",
   "id": "377510cf",
   "metadata": {},
   "source": [
    "**Czy pętla for może też iterować dane typu, np. napisy, listy?**"
   ]
  },
  {
   "cell_type": "code",
   "execution_count": 60,
   "id": "8da98412",
   "metadata": {},
   "outputs": [
    {
     "name": "stdout",
     "output_type": "stream",
     "text": [
      "T\n",
      "E\n",
      "S\n",
      "T\n"
     ]
    }
   ],
   "source": [
    "# Tak, pętla for w Pythonie może iterować po każdym obiekcie, który jest iterowalny, czyli posiada metodę __iter__ lub __getitem__\n",
    "\n",
    "for s in \"TEST\":\n",
    "    print(s)"
   ]
  },
  {
   "cell_type": "markdown",
   "id": "ef8d63c5",
   "metadata": {},
   "source": [
    "**Wykonać dodawanie \"12.5\"+10.**"
   ]
  },
  {
   "cell_type": "code",
   "execution_count": 5,
   "id": "064391a0",
   "metadata": {},
   "outputs": [
    {
     "name": "stdout",
     "output_type": "stream",
     "text": [
      "22.5\n"
     ]
    }
   ],
   "source": [
    "print(float(\"12.5\") + 10)"
   ]
  },
  {
   "cell_type": "markdown",
   "id": "845fd14f",
   "metadata": {},
   "source": [
    "**Co robi operator ==? Pokazać na typie a) int, b) float, c) str, d) list, e) dict.**"
   ]
  },
  {
   "cell_type": "code",
   "execution_count": 64,
   "id": "e12b07a3",
   "metadata": {},
   "outputs": [
    {
     "data": {
      "text/plain": [
       "True"
      ]
     },
     "execution_count": 64,
     "metadata": {},
     "output_type": "execute_result"
    }
   ],
   "source": [
    "# Operator == jest operatorem porównania, który porównuje wartości miedzy lewą a prawą stroną\n",
    "\n",
    "21 == 37"
   ]
  },
  {
   "cell_type": "code",
   "execution_count": 66,
   "id": "c4e69647-f8d4-4d71-954e-fd3153bc8094",
   "metadata": {},
   "outputs": [
    {
     "data": {
      "text/plain": [
       "False"
      ]
     },
     "execution_count": 66,
     "metadata": {},
     "output_type": "execute_result"
    }
   ],
   "source": [
    "12.0 == 12.1"
   ]
  },
  {
   "cell_type": "code",
   "execution_count": 67,
   "id": "9a3e5670-bdf0-428f-864c-56de4b5a4071",
   "metadata": {},
   "outputs": [
    {
     "data": {
      "text/plain": [
       "True"
      ]
     },
     "execution_count": 67,
     "metadata": {},
     "output_type": "execute_result"
    }
   ],
   "source": [
    "\"hello world\" == \"hello world\""
   ]
  },
  {
   "cell_type": "code",
   "execution_count": 69,
   "id": "d1f84217-a45a-4f13-8ea5-2b4bf85cc837",
   "metadata": {},
   "outputs": [
    {
     "data": {
      "text/plain": [
       "False"
      ]
     },
     "execution_count": 69,
     "metadata": {},
     "output_type": "execute_result"
    }
   ],
   "source": [
    "[\"pies\", \"kot\"] == [\"kot\", \"pies\"]"
   ]
  },
  {
   "cell_type": "code",
   "execution_count": 71,
   "id": "60f5dee5-005b-432b-951e-8974b6b5f1ac",
   "metadata": {},
   "outputs": [
    {
     "data": {
      "text/plain": [
       "True"
      ]
     },
     "execution_count": 71,
     "metadata": {},
     "output_type": "execute_result"
    }
   ],
   "source": [
    "{'imie':\"Konrad\"} == {'imie':'Konrad'}b"
   ]
  },
  {
   "cell_type": "markdown",
   "id": "adca55be",
   "metadata": {},
   "source": [
    "**Co robi operator \"is\"? Pokazać na typie a) int, b) float, c) str, d) list, e) dict.**"
   ]
  },
  {
   "cell_type": "markdown",
   "id": "f938438a-4639-4aa7-a86c-470e2fd1b802",
   "metadata": {},
   "source": [
    "Operator is w Pythonie sprawdza tożsamość obiektów – czyli czy dwa zmienne wskazują na dokładnie ten sam obiekt w pamięci (a nie tylko czy są \"równe\" pod względem wartości, jak robi to ==)."
   ]
  },
  {
   "cell_type": "code",
   "execution_count": 72,
   "id": "ff9537bd",
   "metadata": {},
   "outputs": [
    {
     "name": "stdout",
     "output_type": "stream",
     "text": [
      "True\n",
      "False\n"
     ]
    }
   ],
   "source": [
    "a = 100\n",
    "b = 100\n",
    "print(a is b)   # True (małe liczby są internowane – interpreter może przechowywać jedną kopię danego obiektu w pamięci i używać jej wielokrotnie, zamiast tworzyć nowy obiekt za każdym razem)\n",
    "\n",
    "c = 1000\n",
    "d = 1000\n",
    "print(c is d)   # False (większe liczby często nie są internowane)"
   ]
  },
  {
   "cell_type": "code",
   "execution_count": 7,
   "id": "c46f0dc8-3926-4a2c-98b2-6713b2cbdf44",
   "metadata": {},
   "outputs": [
    {
     "data": {
      "text/plain": [
       "True"
      ]
     },
     "execution_count": 7,
     "metadata": {},
     "output_type": "execute_result"
    }
   ],
   "source": [
    "z1 = {1, 2, 3, 4, 4}\n",
    "z2 = {3, 2, 1, 4}\n",
    "\n",
    "z1 is z2\n",
    "z1 == z2"
   ]
  },
  {
   "cell_type": "code",
   "execution_count": 73,
   "id": "42f3c709-09b8-42f8-993b-f9192943b894",
   "metadata": {},
   "outputs": [
    {
     "name": "stdout",
     "output_type": "stream",
     "text": [
      "False\n"
     ]
    }
   ],
   "source": [
    "a = 1.5\n",
    "b = 1.5\n",
    "print(a is b)   # Może być False (float nie są internowane jak int)"
   ]
  },
  {
   "cell_type": "code",
   "execution_count": 74,
   "id": "c3d6e847-7ef3-4101-a925-41e74ef6f687",
   "metadata": {},
   "outputs": [
    {
     "name": "stdout",
     "output_type": "stream",
     "text": [
      "True\n",
      "False\n"
     ]
    }
   ],
   "source": [
    "a = \"hello\"\n",
    "b = \"hello\"\n",
    "print(a is b)   # True (małe, proste stringi są internowane)\n",
    "\n",
    "c = \"hello world with spaces\"\n",
    "d = \"hello world with spaces\"\n",
    "print(c is d)   # Może być False (większe stringi nie zawsze są internowane)\n"
   ]
  },
  {
   "cell_type": "code",
   "execution_count": 75,
   "id": "2812bde5-899f-4f81-b565-447bb39406d6",
   "metadata": {},
   "outputs": [
    {
     "name": "stdout",
     "output_type": "stream",
     "text": [
      "True\n",
      "False\n",
      "True\n"
     ]
    }
   ],
   "source": [
    "a = [1, 2, 3]\n",
    "b = [1, 2, 3]\n",
    "print(a == b)   # True (wartości równe)\n",
    "print(a is b)   # False (dwie różne listy w pamięci)\n",
    "\n",
    "c = a\n",
    "print(a is c)   # True (bo c to tylko inna nazwa tego samego obiektu)\n"
   ]
  },
  {
   "cell_type": "code",
   "execution_count": 76,
   "id": "26fef19a-43da-4324-bd00-66ee2da83a8a",
   "metadata": {},
   "outputs": [
    {
     "name": "stdout",
     "output_type": "stream",
     "text": [
      "True\n",
      "False\n",
      "True\n"
     ]
    }
   ],
   "source": [
    "a = {\"x\": 1}\n",
    "b = {\"x\": 1}\n",
    "print(a == b)   # True\n",
    "print(a is b)   # False (dwa różne słowniki)\n",
    "\n",
    "c = a\n",
    "print(a is c)   # True\n"
   ]
  },
  {
   "cell_type": "markdown",
   "id": "81e87797",
   "metadata": {},
   "source": [
    "**Do czego służy generator? Pokazać w działaniu.**"
   ]
  },
  {
   "cell_type": "markdown",
   "id": "dcf2d950-c02f-4e44-81b6-fff2c95b92d7",
   "metadata": {},
   "source": [
    "Generator w Pythonie to specjalny typ funkcji, która pozwala na generowanie wartości – zamiast zwracać wszystkie wartości naraz (jak np. lista), generator zwraca po jednej wartości na raz, co pozwala oszczędzać pamięć. Generatory tworzy się za pomocą słowa kluczowego yield."
   ]
  },
  {
   "cell_type": "code",
   "execution_count": 1,
   "id": "4510c150",
   "metadata": {},
   "outputs": [
    {
     "name": "stdout",
     "output_type": "stream",
     "text": [
      "0\n",
      "1\n",
      "2\n",
      "3\n",
      "4\n"
     ]
    }
   ],
   "source": [
    "def licz_od_zera_do(n):\n",
    "    for i in range(n):\n",
    "        yield i\n",
    "\n",
    "# Użycie generatora\n",
    "gen = licz_od_zera_do(5)\n",
    "\n",
    "for liczba in gen:\n",
    "    print(liczba)\n"
   ]
  },
  {
   "cell_type": "markdown",
   "id": "9bf608b6",
   "metadata": {},
   "source": [
    "**Co to jest dekorator? Pokazać przykład.**"
   ]
  },
  {
   "cell_type": "markdown",
   "id": "977bcbe6-81c2-43ba-848a-10c678a28025",
   "metadata": {},
   "source": [
    "Dekorator w Pythonie to funkcja, która zmienia działanie innej funkcji, nie zmieniając jej kodu. Można powiedzieć, że dekorator \"opakowuje\" funkcję w dodatkową logikę.\n",
    "\n",
    "Do czego służy dekorator?\n",
    "Na przykład:\n",
    "\n",
    "- żeby dodać logowanie,\n",
    "- zmierzyć czas wykonania funkcji,\n",
    "- sprawdzić uprawnienia,\n",
    "- automatycznie modyfikować dane wejściowe lub wyjściowe."
   ]
  },
  {
   "cell_type": "code",
   "execution_count": 6,
   "id": "04f4407c",
   "metadata": {},
   "outputs": [],
   "source": [
    "def przywitaj():\n",
    "    print(\"Cześć!\")"
   ]
  },
  {
   "cell_type": "code",
   "execution_count": 7,
   "id": "4aaf50e9-cda0-49e9-8d9c-28db829822be",
   "metadata": {},
   "outputs": [
    {
     "name": "stdout",
     "output_type": "stream",
     "text": [
      "Cześć!\n"
     ]
    }
   ],
   "source": [
    "przywitaj()"
   ]
  },
  {
   "cell_type": "code",
   "execution_count": 4,
   "id": "d7e28e45-70fd-4e65-a2f1-b51ef9988f82",
   "metadata": {},
   "outputs": [],
   "source": [
    "def dekorator(funkcja):\n",
    "    def opakowanie():\n",
    "        print(\"------\")\n",
    "        funkcja()\n",
    "        print(\"------\")\n",
    "    return opakowanie"
   ]
  },
  {
   "cell_type": "code",
   "execution_count": 5,
   "id": "435fe92a-0e58-43a5-98ed-2ae415ae19ed",
   "metadata": {},
   "outputs": [
    {
     "name": "stdout",
     "output_type": "stream",
     "text": [
      "------\n",
      "Cześć!\n",
      "------\n"
     ]
    }
   ],
   "source": [
    "@dekorator\n",
    "def przywitaj():\n",
    "    print(\"Cześć!\")\n",
    "\n",
    "przywitaj()"
   ]
  },
  {
   "cell_type": "markdown",
   "id": "83ede6df",
   "metadata": {},
   "source": [
    "**Do czego służą funkcje lambda? (podać przykłady). Kiedy konieczne jest ich użycie? Jakiego typu są te funkcje?**"
   ]
  },
  {
   "cell_type": "markdown",
   "id": "39ddfee1-39a7-4a03-9025-d947609a2827",
   "metadata": {},
   "source": [
    "Funkcja lambda to anonimowa, jednowierszowa funkcja, której nie trzeba nazywać (choć można). Używa się jej tam, gdzie potrzebna jest krótka funkcja \"na szybko\" – często jako argument dla innych funkcji (np. map(), filter(), sorted())."
   ]
  },
  {
   "cell_type": "code",
   "execution_count": 9,
   "id": "921d0439",
   "metadata": {},
   "outputs": [
    {
     "name": "stdout",
     "output_type": "stream",
     "text": [
      "15\n"
     ]
    }
   ],
   "source": [
    "dodaj_10 = lambda x: x + 10\n",
    "print(dodaj_10(5))  # Wynik: 15"
   ]
  },
  {
   "cell_type": "code",
   "execution_count": 10,
   "id": "8cd1e930-d616-4821-9dc7-11091842467e",
   "metadata": {},
   "outputs": [
    {
     "name": "stdout",
     "output_type": "stream",
     "text": [
      "[2, 4, 6, 8]\n"
     ]
    }
   ],
   "source": [
    "liczby = [1, 2, 3, 4]\n",
    "wynik = list(map(lambda x: x * 2, liczby))\n",
    "print(wynik)  # Wynik: [2, 4, 6, 8]"
   ]
  },
  {
   "cell_type": "markdown",
   "id": "347894e1",
   "metadata": {},
   "source": [
    "**Czy można wywoływać funkcję lambda w innej funkcji lambda?**"
   ]
  },
  {
   "cell_type": "markdown",
   "id": "eb6f520e-6cc6-4dac-99ff-2f178fbf9b3f",
   "metadata": {},
   "source": [
    "Tak, w Pythonie można wywoływać funkcję lambda wewnątrz innej funkcji lambda.\n",
    "Funkcja lambda jest po prostu funkcją – więc można ją przekazywać, zagnieżdżać, wywoływać jak każdą inną."
   ]
  },
  {
   "cell_type": "code",
   "execution_count": 11,
   "id": "1316bca7-dcf7-41ad-b22a-6a2c5c62b188",
   "metadata": {},
   "outputs": [
    {
     "name": "stdout",
     "output_type": "stream",
     "text": [
      "7\n"
     ]
    }
   ],
   "source": [
    "# lambda zagnieżdżona\n",
    "f = lambda x: (lambda y: y * 2)(x) + 1\n",
    "\n",
    "print(f(3))  # Wynik: (3 * 2) + 1 = 7"
   ]
  },
  {
   "cell_type": "markdown",
   "id": "276e1944",
   "metadata": {},
   "source": [
    "**Jak zaaplikować funkcję lambda do kontenera iterowalnego (np. listy)?\n",
    "Rozważyć: a) filtrację elementów niespełniających, b) modyfikacje wszystkich elementów, c) wyliczenie pojedynczego wyniku ze wszystkich elementów**"
   ]
  },
  {
   "cell_type": "markdown",
   "id": "38cbfc6f-e42d-4d33-af39-f98d6a98aa05",
   "metadata": {},
   "source": [
    "Można to zrobić za pomocą funkcji wbudowanych Pythona:\n",
    "\n",
    "* filter() – do odfiltrowania elementów niespełniających warunku,\n",
    "* map() – do zmodyfikowania każdego elementu,\n",
    "* reduce() – do zagregowania wszystkich elementów do jednej wartości (np. suma, iloczyn)."
   ]
  },
  {
   "cell_type": "code",
   "execution_count": 14,
   "id": "f8bcbb79",
   "metadata": {},
   "outputs": [
    {
     "name": "stdout",
     "output_type": "stream",
     "text": [
      "==> Podzielne przez 2 lub 3: [2, 3, 4, 6, 8, 9, 10, 12]\n"
     ]
    }
   ],
   "source": [
    "numbers = [1, 2, 3, 4, 5, 6, 7, 8, 9, 10, 11, 12]\n",
    "#a) zachować tylko elementy podzielne przez 2 lub 3\n",
    "wynik_a = list(filter(lambda x: x % 2 == 0 or x % 3 == 0, numbers))\n",
    "print(\"==> Podzielne przez 2 lub 3:\", wynik_a)"
   ]
  },
  {
   "cell_type": "code",
   "execution_count": 15,
   "id": "9938c93a-89f6-4684-ae23-bcf3172e8ffe",
   "metadata": {},
   "outputs": [
    {
     "name": "stdout",
     "output_type": "stream",
     "text": [
      "==> Reszty z dzielenia przez 2: [1, 0, 1, 0, 1, 0, 1, 0, 1, 0, 1, 0]\n"
     ]
    }
   ],
   "source": [
    "#b) dla każdego elementu wypisać resztę z dzielenia przez 2\n",
    "wynik_b = list(map(lambda x: x % 2, numbers))\n",
    "print(\"==> Reszty z dzielenia przez 2:\", wynik_b)"
   ]
  },
  {
   "cell_type": "code",
   "execution_count": 18,
   "id": "7bdcd7d0-34e3-410e-8322-99985d764cf0",
   "metadata": {},
   "outputs": [
    {
     "name": "stdout",
     "output_type": "stream",
     "text": [
      "==> Suma wszystkich liczb: 78\n"
     ]
    }
   ],
   "source": [
    "#c) wyliczyć wartość zagregowaną, np. sumę\n",
    "from functools import reduce\n",
    "\n",
    "wynik_c = reduce(lambda acc, x: acc + x, numbers)\n",
    "print(\"==> Suma wszystkich liczb:\", wynik_c)"
   ]
  },
  {
   "cell_type": "markdown",
   "id": "a2970fbb",
   "metadata": {},
   "source": [
    "**Podać przykłady funkcji lambda z: a) argumentami nazwanymi, b) zmienną liczbą argumentów, c) argumentami pozycyjnymi.**"
   ]
  },
  {
   "cell_type": "code",
   "execution_count": 20,
   "id": "acfbbbf9",
   "metadata": {},
   "outputs": [
    {
     "name": "stdout",
     "output_type": "stream",
     "text": [
      "15\n",
      "8\n"
     ]
    }
   ],
   "source": [
    "#a) named arguments\n",
    "f = lambda x, y=10: x + y\n",
    "\n",
    "print(f(5))      # 15 (x=5, y=10)\n",
    "print(f(5, 3))   # 8  (x=5, y=3)"
   ]
  },
  {
   "cell_type": "code",
   "execution_count": 21,
   "id": "f0f01ac4-74f7-4cb8-b833-34f8303afde6",
   "metadata": {},
   "outputs": [
    {
     "name": "stdout",
     "output_type": "stream",
     "text": [
      "6\n",
      "9\n"
     ]
    }
   ],
   "source": [
    "#b) variable list of arguments\n",
    "suma = lambda *args: sum(args)\n",
    "\n",
    "print(suma(1, 2, 3))    # 6\n",
    "print(suma(4, 5))       # 9"
   ]
  },
  {
   "cell_type": "code",
   "execution_count": 22,
   "id": "d19e269c-b045-404f-98cd-d58c91b94fd2",
   "metadata": {},
   "outputs": [
    {
     "name": "stdout",
     "output_type": "stream",
     "text": [
      "Anna\n",
      "brak\n"
     ]
    }
   ],
   "source": [
    "pobierz_imie = lambda **kwargs: kwargs.get('imie', 'brak')\n",
    "\n",
    "print(pobierz_imie(imie='Anna'))      # Anna\n",
    "print(pobierz_imie(nazwisko='Nowak')) # brak"
   ]
  },
  {
   "cell_type": "code",
   "execution_count": 23,
   "id": "ee02508c-b864-4150-b381-3e9f5565bc9d",
   "metadata": {},
   "outputs": [
    {
     "name": "stdout",
     "output_type": "stream",
     "text": [
      "12\n"
     ]
    }
   ],
   "source": [
    "#c) positional arguments\n",
    "iloczyn = lambda x, y: x * y\n",
    "\n",
    "print(iloczyn(3, 4))  # 12"
   ]
  },
  {
   "cell_type": "markdown",
   "id": "f0606785",
   "metadata": {},
   "source": [
    "**Która funkcja lambda jest nielegalna?**"
   ]
  },
  {
   "cell_type": "raw",
   "id": "301760dc-fcc0-4cfe-a3ac-7b6edfeb58b4",
   "metadata": {},
   "source": [
    "lambda a, b, c: [*(a, b, c)] ==> OK\n",
    "\n",
    "lambda **b, *a: print(a, b); 4, 5 ==> NIE OK\n",
    "Tutaj najpierw **b, potem *a – to jest nielegalne.\n",
    "Python wymaga, żeby *args było przed **kwargs.\n",
    "spowoduje błąd SyntaxError.\n",
    "\n",
    "lambda *b, **a: print(a, b); 4, 5 ==> OK\n",
    "lambda a, b: map(int, [a, b]) ==> OK"
   ]
  },
  {
   "cell_type": "markdown",
   "id": "f71dc14f",
   "metadata": {},
   "source": [
    "**Wywołać poniższą funkcję. Co to są \"args\" i \"kwargs\"?**"
   ]
  },
  {
   "cell_type": "markdown",
   "id": "e1b3b1e6-0f81-448c-933b-a96399d53410",
   "metadata": {},
   "source": [
    "* `*args` i `**kwargs` w Pythonie\n",
    "\n",
    "`*args` i `**kwargs` to specjalne składnie, które pozwalają funkcji przyjmować **zmienną liczbę argumentów**.\n",
    "\n",
    "---\n",
    "\n",
    "* `*args` – argumenty pozycyjne\n",
    "\n",
    "Przechwytuje **dowolną liczbę argumentów pozycyjnych** i zwraca je jako **krotkę**:"
   ]
  },
  {
   "cell_type": "code",
   "execution_count": 24,
   "id": "e93e49a0",
   "metadata": {},
   "outputs": [
    {
     "name": "stdout",
     "output_type": "stream",
     "text": [
      "6\n"
     ]
    }
   ],
   "source": [
    "def suma(*args):\n",
    "    return sum(args)\n",
    "\n",
    "print(suma(1, 2, 3)) "
   ]
  },
  {
   "cell_type": "markdown",
   "id": "3572d87b-0fd3-4dad-ae76-ef11c8390fef",
   "metadata": {},
   "source": [
    "* `**kwargs` – argumenty nazwane\n",
    "Przechwytuje dowolną liczbę argumentów nazwanych i zwraca je jako słownik:"
   ]
  },
  {
   "cell_type": "code",
   "execution_count": 25,
   "id": "7de2ab20-b921-46ed-84da-789ff8196658",
   "metadata": {},
   "outputs": [
    {
     "name": "stdout",
     "output_type": "stream",
     "text": [
      "{'imie': 'Anna', 'wiek': 30}\n"
     ]
    }
   ],
   "source": [
    "def pokaz(**kwargs):\n",
    "    print(kwargs)\n",
    "\n",
    "pokaz(imie=\"Anna\", wiek=30)"
   ]
  },
  {
   "cell_type": "markdown",
   "id": "b2fdef43",
   "metadata": {},
   "source": [
    "**Czy funkcja może wziąć jako argument inną funkcję i wykonać działanie wewnętrzne wg. tej funkcji?**"
   ]
  },
  {
   "cell_type": "markdown",
   "id": "b8162cf0-565a-4ea9-b16c-7722098cc2e9",
   "metadata": {},
   "source": [
    "Tak, w Pythonie funkcje mogą przyjmować jako argumenty inne funkcje. Tego typu technika nazywana jest **funkcją wyższego rzędu**. Funkcja wyższego rzędu może:\n",
    "- Przyjąć funkcję jako argument,\n",
    "- Zwrócić funkcję jako wynik.\n",
    "\n",
    "Przykład:"
   ]
  },
  {
   "cell_type": "code",
   "execution_count": 26,
   "id": "57576009",
   "metadata": {},
   "outputs": [
    {
     "name": "stdout",
     "output_type": "stream",
     "text": [
      "8\n",
      "15\n"
     ]
    }
   ],
   "source": [
    "# Funkcja przyjmująca inną funkcję jako argument\n",
    "def wykonaj_dzialanie(funkcja, a, b):\n",
    "    return funkcja(a, b)\n",
    "\n",
    "# Funkcja do dodawania\n",
    "def dodaj(x, y):\n",
    "    return x + y\n",
    "\n",
    "# Funkcja do mnożenia\n",
    "def mnoz(x, y):\n",
    "    return x * y\n",
    "\n",
    "# Użycie funkcji 'wykonaj_dzialanie' z różnymi funkcjami\n",
    "print(wykonaj_dzialanie(dodaj, 5, 3))  # Wynik: 8\n",
    "print(wykonaj_dzialanie(mnoz, 5, 3))  # Wynik: 15\n"
   ]
  },
  {
   "cell_type": "markdown",
   "id": "1a50997d",
   "metadata": {},
   "source": [
    "**Co to jest \"closure\" w Pythonie? Podać przykład.**"
   ]
  },
  {
   "cell_type": "markdown",
   "id": "4aa476a0-b18c-4e31-96aa-1b1495017ff6",
   "metadata": {},
   "source": [
    "**Closure** (zamknięcie) w Pythonie to technika, w której funkcja zagnieżdżona (wewnętrzna) może uzyskać dostęp do zmiennych z **zewnętrznej funkcji**, nawet po jej zakończeniu. Inaczej mówiąc, closure umożliwia funkcji wewnętrznej \"zapamiętanie\" wartości zmiennych, które zostały zdefiniowane w funkcji zewnętrznej.\n",
    "\n",
    "W Pythonie closure powstaje, gdy:\n",
    "1. Funkcja wewnętrzna korzysta z wartości zmiennych z funkcji zewnętrznej,\n",
    "2. Funkcja wewnętrzna jest zwrócona przez funkcję zewnętrzną.\n",
    "\n",
    "### Przykład \"closure\":"
   ]
  },
  {
   "cell_type": "code",
   "execution_count": 27,
   "id": "11b84802",
   "metadata": {},
   "outputs": [
    {
     "name": "stdout",
     "output_type": "stream",
     "text": [
      "15\n",
      "25\n"
     ]
    }
   ],
   "source": [
    "def zewnetrzna(x):\n",
    "    # Zmienna z funkcji zewnętrznej\n",
    "    def wewnetrzna(y):\n",
    "        return x + y  # Funkcja wewnętrzna korzysta ze zmiennej 'x' z funkcji zewnętrznej\n",
    "    return wewnetrzna  # Zwracamy funkcję wewnętrzną\n",
    "\n",
    "# Tworzymy closure\n",
    "dodaj_5 = zewnetrzna(5)\n",
    "\n",
    "# Używamy closure\n",
    "print(dodaj_5(10))  # Wynik: 15 (5 + 10)\n",
    "print(dodaj_5(20))  # Wynik: 25 (5 + 20)\n"
   ]
  },
  {
   "cell_type": "markdown",
   "id": "4c54d21c",
   "metadata": {},
   "source": [
    "***Co to jest funkcja \"cząstkowa\"?**"
   ]
  },
  {
   "cell_type": "markdown",
   "id": "c09ebd0c-482c-4360-9167-d1b33a7a2213",
   "metadata": {},
   "source": [
    "**Funkcja cząstkowa** (ang. **partial function**) to funkcja, którą tworzymy, **częściowo przypisując wartości** do jej argumentów, pozostawiając inne do późniejszego uzupełnienia. W Pythonie do tworzenia funkcji cząstkowych używamy funkcji `functools.partial`.\n",
    "\n",
    "Funkcja cząstkowa pozwala na stworzenie nowej funkcji, której część argumentów jest już ustalona, a pozostałe argumenty są przekazywane później, kiedy wywołamy tę funkcję.\n",
    "\n",
    "### Przykład:"
   ]
  },
  {
   "cell_type": "code",
   "execution_count": 29,
   "id": "9a14d8c0",
   "metadata": {},
   "outputs": [
    {
     "name": "stdout",
     "output_type": "stream",
     "text": [
      "15\n",
      "30\n"
     ]
    }
   ],
   "source": [
    "from functools import partial\n",
    "\n",
    "# Funkcja, która przyjmuje dwa argumenty i je dodaje\n",
    "def dodaj(a, b):\n",
    "    return a + b\n",
    "\n",
    "# Tworzymy funkcję cząstkową, gdzie 'a' jest już przypisane do 10\n",
    "dodaj_do_10 = partial(dodaj, 10)\n",
    "\n",
    "# Wywołujemy funkcję cząstkową, podając tylko drugi argument\n",
    "print(dodaj_do_10(5))  # Wynik: 15 (10 + 5)\n",
    "print(dodaj_do_10(20)) # Wynik: 30 (10 + 20)\n"
   ]
  },
  {
   "cell_type": "markdown",
   "id": "7603face",
   "metadata": {},
   "source": [
    "**Jak działa taka funkcja?**"
   ]
  },
  {
   "cell_type": "markdown",
   "id": "cfa34e7e-90b0-46e6-b620-319b1d799237",
   "metadata": {},
   "source": [
    "1. **`*names`** – Funkcja przyjmuje **dowolną liczbę argumentów pozycyjnych** (tzw. `args`). Wszystkie przekazane argumenty są zbierane w krotkę `names`.\n",
    "2. **`for name in names`** – Funkcja iteruje po każdym elemencie krotki `names` i wykonuje określoną operację, czyli w tym przypadku wypisuje każdy element na ekranie.\n",
    "3. **`print(name)`** – Dla każdego elementu `name` w krotce `names`, funkcja wypisuje jego wartość na konsolę."
   ]
  },
  {
   "cell_type": "code",
   "execution_count": 11,
   "id": "c70c315c",
   "metadata": {},
   "outputs": [],
   "source": [
    "def f2(*names):\n",
    "    for name in names:\n",
    "        print((name))\n",
    "        "
   ]
  },
  {
   "cell_type": "code",
   "execution_count": 12,
   "id": "7f9ecf0d-1d1b-472c-a774-6679636f5986",
   "metadata": {},
   "outputs": [
    {
     "name": "stdout",
     "output_type": "stream",
     "text": [
      "('Anna', 'Piotr', 'Kasia')\n"
     ]
    }
   ],
   "source": [
    "f2((\"Anna\", \"Piotr\", \"Kasia\"))"
   ]
  },
  {
   "cell_type": "markdown",
   "id": "751d2864",
   "metadata": {},
   "source": [
    "**Jak dodać stałą wartość do każdego elementu listy?**"
   ]
  },
  {
   "cell_type": "code",
   "execution_count": 33,
   "id": "91be6c59",
   "metadata": {
    "scrolled": true
   },
   "outputs": [],
   "source": [
    "def add_all(num_list, num):\n",
    "    ...\n",
    "\n",
    "#przykładowe wywołanie\n",
    "x = add_all([3, 4, 5], 10)"
   ]
  },
  {
   "cell_type": "markdown",
   "id": "0e86f62f-5b8a-4be3-9e0a-65489d54e04a",
   "metadata": {},
   "source": [
    "Aby dodać stałą wartość do każdego elementu listy, możemy użyć pętli `for` lub funkcji **`map()`**. Poniżej przedstawiam przykładową implementację funkcji `add_all`, która dodaje stałą wartość do wszystkich elementów listy."
   ]
  },
  {
   "cell_type": "code",
   "execution_count": 37,
   "id": "465243e8-56eb-4439-89a0-917e9eb5d18c",
   "metadata": {},
   "outputs": [
    {
     "name": "stdout",
     "output_type": "stream",
     "text": [
      "[13, 14, 15]\n"
     ]
    }
   ],
   "source": [
    "def add_all(num_list, num):\n",
    "    return [x + num for x in num_list]\n",
    "\n",
    "# Przykładowe wywołanie\n",
    "x = add_all([3, 4, 5], 10)\n",
    "print(x)"
   ]
  },
  {
   "cell_type": "markdown",
   "id": "7ad538d1-fc38-453d-a341-5e3614a37219",
   "metadata": {},
   "source": [
    "### Wyjaśnienie:\n",
    "1. **`num_list`** – To lista, do której chcemy dodać wartość.\n",
    "2. **`num`** – Stała wartość, którą dodajemy do każdego elementu listy.\n",
    "3. **List comprehension** – `[x + num for x in num_list]` iteruje po każdym elemencie `x` w liście `num_list` i dodaje do niego wartość `num`."
   ]
  },
  {
   "cell_type": "markdown",
   "id": "2f28b81e",
   "metadata": {},
   "source": [
    "**Jak efektywnie wywołać funkcję dla każdego elementu np. listy?**"
   ]
  },
  {
   "cell_type": "code",
   "execution_count": 25,
   "id": "a28fb168",
   "metadata": {
    "scrolled": true
   },
   "outputs": [],
   "source": [
    "lista = [1, 2, 3, 4, 5]\n",
    "def f1(item):\n",
    "    print(item)\n"
   ]
  },
  {
   "cell_type": "markdown",
   "id": "04ead43e-eb59-47b4-ac92-fea4f492cbbe",
   "metadata": {},
   "source": [
    "Aby efektywnie wywołać funkcję dla każdego elementu listy, możemy użyć różnych podejść. Najczęściej stosowane metody to:\n",
    "\n",
    "### 1. Użycie pętli `for`:\n",
    "\n",
    "Pętla `for` to najprostszy sposób na iterację po elementach listy i wywołanie funkcji dla każdego elementu."
   ]
  },
  {
   "cell_type": "code",
   "execution_count": 44,
   "id": "c648baca-ac44-4481-9dec-a6179a1a1dab",
   "metadata": {
    "scrolled": true
   },
   "outputs": [
    {
     "name": "stdout",
     "output_type": "stream",
     "text": [
      "1\n",
      "2\n",
      "3\n",
      "4\n",
      "5\n"
     ]
    }
   ],
   "source": [
    "lista = [1, 2, 3, 4, 5]\n",
    "\n",
    "def f1(item):\n",
    "    print(item)\n",
    "\n",
    "# Wywołanie funkcji dla każdego elementu listy\n",
    "for item in lista:\n",
    "    f1(item)"
   ]
  },
  {
   "cell_type": "markdown",
   "id": "9c3c9aa5-b3c9-4014-b8f2-df1e1c8a6fe5",
   "metadata": {},
   "source": [
    "### 2. Użycie funkcji `map()`:\n",
    "\n",
    "Funkcja `map()` pozwala na zastosowanie funkcji do każdego elementu listy, tworząc nowy iterator.\n",
    "`map()` jest bardziej eleganckie i może być użyteczne, gdy nie zależy nam na modyfikowaniu oryginalnej listy."
   ]
  },
  {
   "cell_type": "code",
   "execution_count": 48,
   "id": "cab6be04-fc7c-4e01-82dd-9c81ac99da64",
   "metadata": {
    "scrolled": true
   },
   "outputs": [
    {
     "name": "stdout",
     "output_type": "stream",
     "text": [
      "1\n",
      "2\n",
      "3\n",
      "4\n",
      "5\n"
     ]
    },
    {
     "data": {
      "text/plain": [
       "[None, None, None, None, None]"
      ]
     },
     "execution_count": 48,
     "metadata": {},
     "output_type": "execute_result"
    }
   ],
   "source": [
    "lista = [1, 2, 3, 4, 5]\n",
    "\n",
    "def f1(item):\n",
    "    print(item)\n",
    "\n",
    "list(map(f1, lista))"
   ]
  },
  {
   "cell_type": "markdown",
   "id": "bc56f728-92c5-4a26-ad27-90b49a07e65f",
   "metadata": {},
   "source": [
    "### ✅ 3. Użycie list comprehension (jeśli chcesz przetworzyć dane):\n",
    "\n",
    "Jeśli celem jest przetworzenie danych (np. przekształcenie listy), list comprehension może być efektywnym rozwiązaniem."
   ]
  },
  {
   "cell_type": "code",
   "execution_count": 15,
   "id": "466fe960-4452-488f-a5d6-0bcc9cfd2b83",
   "metadata": {},
   "outputs": [
    {
     "name": "stdout",
     "output_type": "stream",
     "text": [
      "[2, 4, 6, 8, 10]\n"
     ]
    }
   ],
   "source": [
    "lista = [1, 2, 3, 4, 5]\n",
    "\n",
    "def f1(item):\n",
    "    print(item)\n",
    "\n",
    "# Użycie list comprehension\n",
    "wynik = [x*2 for x in lista]\n",
    "print(wynik)"
   ]
  },
  {
   "cell_type": "markdown",
   "id": "4dc2d098",
   "metadata": {},
   "source": [
    "**Czy funkcja w Pythonie może zwracać więcej niż jedną wartość?**"
   ]
  },
  {
   "cell_type": "markdown",
   "id": "f6b3f13f-6b44-43e7-86e0-46078fa7c3f7",
   "metadata": {},
   "source": [
    "Tak, funkcja w Pythonie **może zwracać więcej niż jedną wartość**. W Pythonie nie musimy ograniczać się do zwracania tylko jednej wartości. Możemy zwrócić **krotkę**, **listę** lub inne struktury danych, które zawierają wiele wartości. Dodatkowo, Python pozwala na zwrócenie wielu wartości w postaci krotki bez konieczności jawnego tworzenia obiektu.\n",
    "\n",
    "### Przykład 1: Zwracanie wielu wartości jako krotka"
   ]
  },
  {
   "cell_type": "code",
   "execution_count": 50,
   "id": "d1f70b99-1f34-4138-a1b7-31e9de06071b",
   "metadata": {},
   "outputs": [
    {
     "name": "stdout",
     "output_type": "stream",
     "text": [
      "1 2 3\n"
     ]
    }
   ],
   "source": [
    "def przyklad():\n",
    "    return 1, 2, 3\n",
    "\n",
    "a, b, c = przyklad()\n",
    "print(a, b, c)  # Wynik: 1 2 3"
   ]
  },
  {
   "cell_type": "markdown",
   "id": "74025317-c6ac-4d1e-b804-50dc1c54a091",
   "metadata": {},
   "source": [
    "W powyższym przykładzie funkcja `przyklad()` zwraca trzy wartości, które są automatycznie traktowane jako **krotka**.\n",
    "\n",
    "### Przykład 2: Zwracanie wielu wartości w postaci listy\n",
    "\n",
    "Tutaj funkcja zwraca **listę** zawierającą trzy wartości."
   ]
  },
  {
   "cell_type": "code",
   "execution_count": 51,
   "id": "63cbcaab-ca31-49ed-86e4-4e9c37081c06",
   "metadata": {
    "scrolled": true
   },
   "outputs": [
    {
     "name": "stdout",
     "output_type": "stream",
     "text": [
      "[1, 2, 3]\n"
     ]
    }
   ],
   "source": [
    "def przyklad():\n",
    "    return [1, 2, 3]\n",
    "\n",
    "wynik = przyklad()\n",
    "print(wynik)  # Wynik: [1, 2, 3]"
   ]
  },
  {
   "cell_type": "markdown",
   "id": "ef87337c-1771-430f-9b33-82ae8a987ee2",
   "metadata": {},
   "source": [
    "### Przykład 3: Zwracanie wielu wartości jako słownik"
   ]
  },
  {
   "cell_type": "code",
   "execution_count": 53,
   "id": "afad270a-a2e0-44b4-a41a-f38316c877a7",
   "metadata": {},
   "outputs": [
    {
     "name": "stdout",
     "output_type": "stream",
     "text": [
      "{'a': 1, 'b': 2, 'c': 3}\n"
     ]
    }
   ],
   "source": [
    "def przyklad():\n",
    "    return {\"a\": 1, \"b\": 2, \"c\": 3}\n",
    "\n",
    "wynik = przyklad()\n",
    "print(wynik)  # Wynik: {'a': 1, 'b': 2, 'c': 3}"
   ]
  },
  {
   "cell_type": "markdown",
   "id": "751fc019",
   "metadata": {},
   "source": [
    "**Co to są metody statyczne? Pokazać przykład takiej metody.**"
   ]
  },
  {
   "cell_type": "markdown",
   "id": "69a911b6-db69-4e8e-94f3-7f5b047b86aa",
   "metadata": {},
   "source": [
    "**Metody statyczne** w Pythonie to metody, które **nie wymagają dostępu do instancji klasy** (nie używają `self`) ani do klasy (nie używają `cls`). Są one definiowane za pomocą dekoratora `@staticmethod` i mogą być wywoływane bez tworzenia instancji klasy."
   ]
  },
  {
   "cell_type": "code",
   "execution_count": 56,
   "id": "9a84e4ce-a326-471c-a61b-6cbb30664f1a",
   "metadata": {},
   "outputs": [
    {
     "name": "stdout",
     "output_type": "stream",
     "text": [
      "8\n"
     ]
    }
   ],
   "source": [
    "class Calculator:\n",
    "    \n",
    "    @staticmethod\n",
    "    def add(a, b):\n",
    "        return a + b\n",
    "\n",
    "# Wywołanie metody statycznej bez tworzenia instancji klasy\n",
    "res = Calculator.add(5, 3)\n",
    "print(res)  # Wynik: 8"
   ]
  },
  {
   "cell_type": "markdown",
   "id": "5c8226eb",
   "metadata": {},
   "source": [
    "**Co to są metody klasy udekorowane przez @classmethod?**"
   ]
  },
  {
   "cell_type": "markdown",
   "id": "6aef0235-363a-47e2-b54a-d5c0d84c27c8",
   "metadata": {},
   "source": [
    "**Metody klasy** (`class methods`) to metody, które **działają na samej klasie**, a nie na instancji klasy. Zamiast pierwszego argumentu `self`, przyjmują **`cls`** — czyli referencję do klasy, a nie do konkretnego obiektu.\n",
    "\n",
    "Dekorujemy je za pomocą **`@classmethod`**.\n",
    "\n",
    "### Przykład metody klasy:"
   ]
  },
  {
   "cell_type": "code",
   "execution_count": 58,
   "id": "7af00223",
   "metadata": {},
   "outputs": [
    {
     "name": "stdout",
     "output_type": "stream",
     "text": [
      "2\n"
     ]
    }
   ],
   "source": [
    "class Pracownik:\n",
    "    liczba_pracownikow = 0\n",
    "\n",
    "    def __init__(self, imie):\n",
    "        self.imie = imie\n",
    "        Pracownik.liczba_pracownikow += 1\n",
    "\n",
    "    @classmethod\n",
    "    def ile_osob(cls):\n",
    "        return cls.liczba_pracownikow\n",
    "\n",
    "# Tworzenie pracowników\n",
    "p1 = Pracownik(\"Anna\")\n",
    "p2 = Pracownik(\"Jan\")\n",
    "\n",
    "# Wywołanie metody klasy\n",
    "print(Pracownik.ile_osob())  # Wynik: 2"
   ]
  },
  {
   "cell_type": "markdown",
   "id": "d2ef0c81",
   "metadata": {},
   "source": [
    "**Jak zrobić atrybuty read-only w klasie?**"
   ]
  },
  {
   "cell_type": "markdown",
   "id": "2820e9f1-70de-4842-a1f5-914c48c0bb5e",
   "metadata": {},
   "source": [
    "Atrybuty **read-only** (tylko do odczytu) w Pythonie można utworzyć za pomocą dekoratora `@property`. Dzięki temu możemy zdefiniować metodę, która **zachowuje się jak atrybut**, ale nie pozwala na modyfikację wartości z zewnątrz.\n",
    "\n",
    "### Przykład atrybutu read-only:"
   ]
  },
  {
   "cell_type": "code",
   "execution_count": 16,
   "id": "e2a51646-9da2-4ba8-a801-1f4d2df7dcc7",
   "metadata": {},
   "outputs": [
    {
     "name": "stdout",
     "output_type": "stream",
     "text": [
      "Ala\n"
     ]
    },
    {
     "ename": "AttributeError",
     "evalue": "property 'imie' of 'Osoba' object has no setter",
     "output_type": "error",
     "traceback": [
      "\u001b[31m---------------------------------------------------------------------------\u001b[39m",
      "\u001b[31mAttributeError\u001b[39m                            Traceback (most recent call last)",
      "\u001b[36mCell\u001b[39m\u001b[36m \u001b[39m\u001b[32mIn[16]\u001b[39m\u001b[32m, line 12\u001b[39m\n\u001b[32m     10\u001b[39m o = Osoba(\u001b[33m\"\u001b[39m\u001b[33mAla\u001b[39m\u001b[33m\"\u001b[39m)\n\u001b[32m     11\u001b[39m \u001b[38;5;28mprint\u001b[39m(o.imie)     \u001b[38;5;66;03m# Działa: wypisze \"Ala\"\u001b[39;00m\n\u001b[32m---> \u001b[39m\u001b[32m12\u001b[39m \u001b[43mo\u001b[49m\u001b[43m.\u001b[49m\u001b[43mimie\u001b[49m = \u001b[33m\"\u001b[39m\u001b[33mJan\u001b[39m\u001b[33m\"\u001b[39m    \u001b[38;5;66;03m# Błąd: AttributeError (atrybut tylko do odczytu)\u001b[39;00m\n",
      "\u001b[31mAttributeError\u001b[39m: property 'imie' of 'Osoba' object has no setter"
     ]
    }
   ],
   "source": [
    "class Osoba:\n",
    "    def __init__(self, imie):\n",
    "        self._imie = imie  # atrybut prywatny\n",
    "\n",
    "    @property\n",
    "    def imie(self):\n",
    "        return self._imie  # tylko do odczytu\n",
    "\n",
    "# Użycie\n",
    "o = Osoba(\"Ala\")\n",
    "print(o.imie)     # Działa: wypisze \"Ala\"\n",
    "o.imie = \"Jan\"    # Błąd: AttributeError (atrybut tylko do odczytu)"
   ]
  },
  {
   "cell_type": "markdown",
   "id": "8da2e6e6",
   "metadata": {},
   "source": [
    "**Podać przykład dziedziczenia w Pythonie.**"
   ]
  },
  {
   "cell_type": "markdown",
   "id": "9b06282e-8574-495f-b25d-71d1ec4d80ea",
   "metadata": {},
   "source": [
    "Dziedziczenie pozwala jednej klasie (**klasie pochodnej**) przejąć właściwości i metody innej klasy (**klasy bazowej**). Dzięki temu można ponownie wykorzystać kod i rozszerzyć funkcjonalność klas.\n",
    "\n",
    "### Przykład:"
   ]
  },
  {
   "cell_type": "code",
   "execution_count": 62,
   "id": "5fec7cd8",
   "metadata": {
    "scrolled": true
   },
   "outputs": [
    {
     "name": "stdout",
     "output_type": "stream",
     "text": [
      "Jestem zwierzęciem o imieniu Burek.\n",
      "Hau! Hau!\n"
     ]
    }
   ],
   "source": [
    "# Klasa bazowa\n",
    "class Zwierze:\n",
    "    def __init__(self, imie):\n",
    "        self.imie = imie\n",
    "\n",
    "    def przedstaw_sie(self):\n",
    "        print(f\"Jestem zwierzęciem o imieniu {self.imie}.\")\n",
    "\n",
    "# Klasa pochodna dziedzicząca po Zwierze\n",
    "class Pies(Zwierze):\n",
    "    def szczekaj(self):\n",
    "        print(\"Hau! Hau!\")\n",
    "\n",
    "# Użycie\n",
    "pies = Pies(\"Burek\")\n",
    "pies.przedstaw_sie()  # Dziedziczone z klasy Zwierze\n",
    "pies.szczekaj()       # Własna metoda klasy Pies"
   ]
  },
  {
   "cell_type": "markdown",
   "id": "46610307",
   "metadata": {},
   "source": [
    "**Jak zrobić funkcje typu getter i setter w Pythonie?**"
   ]
  },
  {
   "cell_type": "markdown",
   "id": "e9c64fcf-8fa0-4756-870f-65428e38feb9",
   "metadata": {},
   "source": [
    "W Pythonie funkcje typu **getter** i **setter** tworzy się za pomocą dekoratorów: `@property` (getter) oraz `@nazwa.setter` (setter). Pozwala to na kontrolowany dostęp do prywatnych atrybutów klasy — np. walidację danych przed ich ustawieniem.\n",
    "\n",
    "### Przykład:"
   ]
  },
  {
   "cell_type": "code",
   "execution_count": 63,
   "id": "3942accf-9822-458c-bf96-5dc09bc93890",
   "metadata": {},
   "outputs": [
    {
     "name": "stdout",
     "output_type": "stream",
     "text": [
      "1000\n",
      "500\n",
      "Saldo nie może być ujemne!\n"
     ]
    }
   ],
   "source": [
    "class KontoBankowe:\n",
    "    def __init__(self, saldo):\n",
    "        self._saldo = saldo  # prywatny atrybut\n",
    "\n",
    "    @property\n",
    "    def saldo(self):\n",
    "        # Getter — odczyt wartości\n",
    "        return self._saldo\n",
    "\n",
    "    @saldo.setter\n",
    "    def saldo(self, nowa_kwota):\n",
    "        # Setter — ustawienie wartości z walidacją\n",
    "        if nowa_kwota >= 0:\n",
    "            self._saldo = nowa_kwota\n",
    "        else:\n",
    "            print(\"Saldo nie może być ujemne!\")\n",
    "\n",
    "# Użycie\n",
    "konto = KontoBankowe(1000)\n",
    "print(konto.saldo)     # Odczyt przez getter → 1000\n",
    "konto.saldo = 500      # Ustawienie przez setter\n",
    "print(konto.saldo)     # → 500\n",
    "konto.saldo = -100     # Błąd: saldo nie może być ujemne!\n"
   ]
  },
  {
   "cell_type": "markdown",
   "id": "5dbd1fe6",
   "metadata": {},
   "source": [
    "**Co to jest deskryptor?**"
   ]
  },
  {
   "cell_type": "markdown",
   "id": "660acef5-0c48-40bd-9d94-9c6533bbedd8",
   "metadata": {},
   "source": [
    "**Deskryptor** to obiekt w Pythonie, który pozwala **kontrolować dostęp do atrybutów klasy** — czyli co się dzieje, gdy je odczytujemy, ustawiamy lub usuwamy.\n",
    "\n",
    "Deskryptor to klasa, która implementuje przynajmniej jedną z metod specjalnych:\n",
    "\n",
    "- `__get__(self, instance, owner)` — przy odczycie atrybutu\n",
    "- `__set__(self, instance, value)` — przy ustawieniu wartości\n",
    "- `__delete__(self, instance)` — przy usunięciu atrybutu\n",
    "\n",
    "Deskryptory są podstawą działania np. `@property`, `@staticmethod`, `@classmethod`.\n",
    "\n",
    "---\n",
    "\n",
    "### Przykład deskryptora:"
   ]
  },
  {
   "cell_type": "code",
   "execution_count": 64,
   "id": "339177be-1fd8-49c0-ba0a-1a534f42d6b8",
   "metadata": {},
   "outputs": [
    {
     "name": "stdout",
     "output_type": "stream",
     "text": [
      "Ustawianie wartości\n",
      "Odczyt wartości\n",
      "10\n"
     ]
    }
   ],
   "source": [
    "class MojePole:\n",
    "    def __get__(self, instance, owner):\n",
    "        print(\"Odczyt wartości\")\n",
    "        return instance._wartosc\n",
    "\n",
    "    def __set__(self, instance, value):\n",
    "        print(\"Ustawianie wartości\")\n",
    "        instance._wartosc = value\n",
    "\n",
    "class Klasa:\n",
    "    pole = MojePole()  # deskryptor jako atrybut klasy\n",
    "\n",
    "    def __init__(self):\n",
    "        self._wartosc = 0\n",
    "\n",
    "# Użycie\n",
    "k = Klasa()\n",
    "k.pole = 10     # Ustawianie wartości → wywoła __set__\n",
    "print(k.pole)   # Odczyt wartości → wywoła __get__\n"
   ]
  },
  {
   "cell_type": "markdown",
   "id": "a14e8ba4-c1c5-434c-9924-452112cdd226",
   "metadata": {},
   "source": [
    "### Do czego służy metoda `__call__` w Pythonie?\n",
    "\n",
    "Metoda specjalna `__call__(self, ...)` pozwala na **wywołanie obiektu jak funkcji**. Jeśli klasa definiuje metodę `__call__`, to instancje tej klasy **mogą być używane jak funkcje** – z nawiasami `()` i argumentami.\n",
    "\n",
    "---\n",
    "\n",
    "### Przykład użycia `__call__`:"
   ]
  },
  {
   "cell_type": "code",
   "execution_count": 65,
   "id": "97327ba7",
   "metadata": {},
   "outputs": [
    {
     "name": "stdout",
     "output_type": "stream",
     "text": [
      "15\n"
     ]
    }
   ],
   "source": [
    "class Mnoznik:\n",
    "    def __init__(self, mnoznik):\n",
    "        self.mnoznik = mnoznik\n",
    "\n",
    "    def __call__(self, liczba):\n",
    "        return self.mnoznik * liczba\n",
    "\n",
    "# Tworzymy instancję klasy\n",
    "razy3 = Mnoznik(3)\n",
    "\n",
    "# Użycie instancji jak funkcji\n",
    "print(razy3(5))  # Wynik: 15 (czyli 3 * 5)"
   ]
  },
  {
   "cell_type": "markdown",
   "id": "33cb02ca",
   "metadata": {},
   "source": [
    "**Co robią te metody?**"
   ]
  },
  {
   "cell_type": "markdown",
   "id": "0426b64a-7fae-4d90-a97f-f781d715e3d5",
   "metadata": {},
   "source": [
    "W klasie `Dog` zdefiniowano trzy specjalne metody służące do obsługi **dostępu do atrybutów** i **elementów**:\n",
    "\n",
    "#### `__getattribute__(self, key)`\n",
    "- Wywoływana **zawsze** przy próbie dostępu do dowolnego atrybutu (np. `dog.name`).\n",
    "- Ma **pierwszeństwo** przed `__getattr__`.\n",
    "- Jeśli nie użyjemy `super().__getattribute__`, przejmuje całkowitą kontrolę i **nawet `self.name` wewnątrz klasy nie zadziała bez obejścia**.\n",
    "\n",
    "#### `__getattr__(self, key)`\n",
    "- Wywoływana **tylko wtedy**, gdy atrybut **nie istnieje** i `__getattribute__` nie zwróci żadnej wartości.\n",
    "- W tym przykładzie **nigdy nie zostanie wywołana**, bo `__getattribute__` przejmuje wszystko.\n",
    "\n",
    "#### `__getitem__(self, key)`\n",
    "- Pozwala używać obiektów jak słowników lub list: `dog['coś']`.\n",
    "- Zwraca `'pear'` niezależnie od klucza.\n"
   ]
  },
  {
   "cell_type": "code",
   "execution_count": 66,
   "id": "bf38018d",
   "metadata": {},
   "outputs": [
    {
     "name": "stdout",
     "output_type": "stream",
     "text": [
      "orange\n"
     ]
    }
   ],
   "source": [
    "class Dog:\n",
    "    def __init__(self, name):\n",
    "        self.name = name\n",
    "\n",
    "    def __getattr__(self, key):\n",
    "        return 'apple'\n",
    "    \n",
    "    def __getattribute__(self, key):\n",
    "        return 'orange'\n",
    "    \n",
    "    def __getitem__(self, key):\n",
    "        return 'pear'\n",
    "\n",
    "dog = Dog('rocky')\n",
    "print(dog.name)      #??"
   ]
  }
 ],
 "metadata": {
  "kernelspec": {
   "display_name": "Python 3 (ipykernel)",
   "language": "python",
   "name": "python3"
  },
  "language_info": {
   "codemirror_mode": {
    "name": "ipython",
    "version": 3
   },
   "file_extension": ".py",
   "mimetype": "text/x-python",
   "name": "python",
   "nbconvert_exporter": "python",
   "pygments_lexer": "ipython3",
   "version": "3.12.7"
  }
 },
 "nbformat": 4,
 "nbformat_minor": 5
}
