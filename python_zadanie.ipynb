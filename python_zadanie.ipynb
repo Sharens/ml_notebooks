{
 "cells": [
  {
   "cell_type": "markdown",
   "id": "55193850",
   "metadata": {},
   "source": [
    "**Jak działają napisy w Pythonie?\n",
    "(uzupełnij kod, aby wykonać poprawnie)**"
   ]
  },
  {
   "cell_type": "code",
   "execution_count": 6,
   "id": "8cff0dbc",
   "metadata": {},
   "outputs": [
    {
     "name": "stdout",
     "output_type": "stream",
     "text": [
      "alamakota\n"
     ]
    }
   ],
   "source": [
    "napisy = ['ala', 'ma', 'kota']\n",
    "# Wynik: alamakota\n",
    "print(''.join(napisy))\n"
   ]
  },
  {
   "cell_type": "code",
   "execution_count": 10,
   "id": "0c7e5318",
   "metadata": {},
   "outputs": [
    {
     "data": {
      "text/plain": [
       "False"
      ]
     },
     "execution_count": 10,
     "metadata": {},
     "output_type": "execute_result"
    }
   ],
   "source": [
    "#odwróć napis\n",
    "napis = \"tango\"\n",
    "napis == ''.join(napis[::-1]) # Sprawdzenie czy wyraz to palindrom\n",
    "#sprawdź, czy wyraz to palindrom"
   ]
  },
  {
   "cell_type": "code",
   "execution_count": 11,
   "id": "43111938",
   "metadata": {},
   "outputs": [
    {
     "name": "stdout",
     "output_type": "stream",
     "text": [
      "Tomek ma 10 lat\n"
     ]
    }
   ],
   "source": [
    "#z poniższych zmiennych utwórz napis: \"Tomek ma 10 lat.\"\n",
    "name = 'Tomek'\n",
    "wiek = 10\n",
    "print(f\"{name} ma {wiek} lat\")"
   ]
  },
  {
   "cell_type": "markdown",
   "id": "a317e98d",
   "metadata": {},
   "source": [
    "**Co to są F-strings i jak działają?**"
   ]
  },
  {
   "cell_type": "code",
   "execution_count": 12,
   "id": "1eb24245",
   "metadata": {},
   "outputs": [
    {
     "name": "stdout",
     "output_type": "stream",
     "text": [
      "Nazywam się Tomek i mam 10 lat.\n"
     ]
    }
   ],
   "source": [
    "#wypisać za pomocą F-strings\n",
    "name = \"Tomek\"\n",
    "age = 10\n",
    "\n",
    "#Wynik: \"Nazywam się Tomek i mam 10 lat.\"\n",
    "print(f\"Nazywam się {name} i mam {age} lat.\")"
   ]
  },
  {
   "cell_type": "code",
   "execution_count": 14,
   "id": "1393d25f",
   "metadata": {},
   "outputs": [
    {
     "name": "stdout",
     "output_type": "stream",
     "text": [
      "3.142\n"
     ]
    }
   ],
   "source": [
    "#Napisz po zaokrągleniu \"pi=3.142\"\n",
    "pi = 3.141592\n",
    "print(round(pi, 3))"
   ]
  },
  {
   "cell_type": "code",
   "execution_count": 25,
   "id": "2bc8caf4",
   "metadata": {},
   "outputs": [
    {
     "name": "stdout",
     "output_type": "stream",
     "text": [
      "1.000.000.000\n"
     ]
    }
   ],
   "source": [
    "#wypisz poniższą liczbę przedzielając kropką kolejne tysiące\n",
    "n = 1000000000\n",
    "print(f\"{n:,}\".replace(',', '.'))"
   ]
  },
  {
   "cell_type": "markdown",
   "id": "d72ad411",
   "metadata": {},
   "source": [
    "**Jak działa operator .format()?**"
   ]
  },
  {
   "cell_type": "code",
   "execution_count": 32,
   "id": "eab00cb8",
   "metadata": {},
   "outputs": [
    {
     "name": "stdout",
     "output_type": "stream",
     "text": [
      "1234.5678 ==> 1234.57\n",
      "0xff ==> 255\n"
     ]
    }
   ],
   "source": [
    "#Używając operatora format() wypisz:\n",
    "#a) 1234.5678 do dwóch miejsc po przecinku\n",
    "print(\"1234.5678 ==> {:.2f}\".format(1234.5678))\n",
    "\n",
    "#b) 0xff dziesiętnie\n",
    "print(\"0xff ==>\", int(0xff))"
   ]
  },
  {
   "cell_type": "markdown",
   "id": "7940eb54",
   "metadata": {},
   "source": [
    "**Jak wypisać za pomocą \"print\" kilka obiektów z zadanym separatorem i zakończeniem?**"
   ]
  },
  {
   "cell_type": "code",
   "execution_count": 33,
   "id": "43967441",
   "metadata": {},
   "outputs": [
    {
     "name": "stdout",
     "output_type": "stream",
     "text": [
      "a=>b=>c#"
     ]
    }
   ],
   "source": [
    "#np. \"a\", \"b\", \"c\"\n",
    "print(\"a\", \"b\", \"c\", sep=\"=>\", end=\"#\")"
   ]
  },
  {
   "cell_type": "markdown",
   "id": "5f74b42b",
   "metadata": {},
   "source": [
    "**Czy w Pythonie jest operator := ? Jak się nazywa? Jak go użyć?**"
   ]
  },
  {
   "cell_type": "code",
   "execution_count": 39,
   "id": "939eb1ac",
   "metadata": {},
   "outputs": [
    {
     "name": "stdout",
     "output_type": "stream",
     "text": [
      "List is too long (5 elements, expected <= 10)\n"
     ]
    }
   ],
   "source": [
    "\"\"\"\n",
    ":= - operator przypisania z wyrażenia/ walrus operator\n",
    "\n",
    "Pozwala przypisać wartość do wyrażenia w trakcie działania wyrażeń np. if, while\n",
    "\"\"\"\n",
    "a = \"sdada\"\n",
    "if (n := len(a)) > 2:\n",
    "    print(f\"List is too long ({n} elements, expected <= 10)\")"
   ]
  },
  {
   "cell_type": "markdown",
   "id": "e7b6fc13",
   "metadata": {},
   "source": [
    "**Jak maksymalnie skrócić poniższe?**"
   ]
  },
  {
   "cell_type": "code",
   "execution_count": null,
   "id": "b97ce373",
   "metadata": {},
   "outputs": [],
   "source": [
    "x = 5\n",
    "if x > 3 and x < 10:\n",
    "    print(\"x is between 3 and 10\")"
   ]
  },
  {
   "cell_type": "markdown",
   "id": "9e2124d7",
   "metadata": {},
   "source": [
    "**Czy możliwe jest wielokrotne przypisanie?**"
   ]
  },
  {
   "cell_type": "code",
   "execution_count": 40,
   "id": "47b04b9b",
   "metadata": {},
   "outputs": [
    {
     "name": "stdout",
     "output_type": "stream",
     "text": [
      "1 2 3\n"
     ]
    }
   ],
   "source": [
    "a, b, c = 1, 2, 3\n",
    "print(a, b, c)"
   ]
  },
  {
   "cell_type": "markdown",
   "id": "57a961f0",
   "metadata": {},
   "source": [
    "**Co to są shenanigans?**"
   ]
  },
  {
   "cell_type": "code",
   "execution_count": 41,
   "id": "25177029",
   "metadata": {},
   "outputs": [
    {
     "name": "stdout",
     "output_type": "stream",
     "text": [
      "10\n"
     ]
    }
   ],
   "source": [
    "# to „sztuczki”, „kombinacje”, „nietypowe lub podchwytliwe zachowania” w kodzie.\n",
    "\n",
    "a = 0 or 5 and 10\n",
    "print(a)"
   ]
  },
  {
   "cell_type": "markdown",
   "id": "2908adce",
   "metadata": {},
   "source": [
    "**Jak działają poniższe operatory? Jaki jest wynik działania?**"
   ]
  },
  {
   "cell_type": "markdown",
   "id": "0e01da95-45f0-4e28-8257-6384687a1a98",
   "metadata": {},
   "source": [
    "* `~` — bitowy negator (NOT): `~x` = `-(x + 1)`\n",
    "* `<<`, `>>` — przesunięcia bitowe w lewo i w prawo\n",
    "* `|` — bitowe OR\n",
    "* `&` — bitowe AND\n",
    "* `^` — bitowe XOR"
   ]
  },
  {
   "cell_type": "code",
   "execution_count": null,
   "id": "02eec174-202d-4f0b-86fb-706d22f5be25",
   "metadata": {},
   "outputs": [],
   "source": [
    "x = 9\n",
    "\n",
    "# Cztery negacje ~~~~x to po prostu x (9)\n",
    "step1 = x  # 9\n",
    "\n",
    "# Przesunięcia bitowe:\n",
    "step2 = step1 << 5  # 9 << 5 = 288\n",
    "step3 = step2 >> 2  # 288 >> 2 = 72\n",
    "step4 = step3 << 5  # 72 << 5 = 2304\n",
    "step5 = step4 >> 8  # 2304 >> 8 = 9\n",
    "\n",
    "# Operacje bitowe po prawej stronie:\n",
    "step6 = 9 & 9  # 9 & 9 = 9\n",
    "step7 = step6 ^ 16  # 9 ^ 16 = 25\n",
    "step8 = step7 ^ 16  # 25 ^ 16 = 9\n",
    "\n",
    "# Końcowe OR:\n",
    "result = step5 | step8  # 9 | 9 = 9"
   ]
  },
  {
   "cell_type": "code",
   "execution_count": 43,
   "id": "e0adc475",
   "metadata": {},
   "outputs": [
    {
     "name": "stdout",
     "output_type": "stream",
     "text": [
      "9\n"
     ]
    }
   ],
   "source": [
    "x = 9\n",
    "x = ~~~~x << 5 >> 2 << 5 >> 8 | 9 & 9 ^ 16 ^ 16\n",
    "print(x)"
   ]
  },
  {
   "cell_type": "markdown",
   "id": "27a8f2df",
   "metadata": {},
   "source": [
    "**Jak sprawdzić, czy\n",
    "a) wszystkie elementy\n",
    "b) przynajmniej jeden element\n",
    "struktury iteracyjnej są/jest True?**"
   ]
  },
  {
   "cell_type": "code",
   "execution_count": 45,
   "id": "c41ac3b1",
   "metadata": {},
   "outputs": [
    {
     "name": "stdout",
     "output_type": "stream",
     "text": [
      "True\n"
     ]
    }
   ],
   "source": [
    "x = 5\n",
    "y = 10\n",
    "conditions = [x < 10, y > 5, x + y == 15]\n",
    "\n",
    "result = all(conditions) # Sprawdzenie czy wszystkie elementy są True\n",
    "\n",
    "print(result)"
   ]
  },
  {
   "cell_type": "code",
   "execution_count": 46,
   "id": "f6541098-249e-4db7-be80-a1eeafc30421",
   "metadata": {},
   "outputs": [
    {
     "name": "stdout",
     "output_type": "stream",
     "text": [
      "False\n"
     ]
    }
   ],
   "source": [
    "x = 5\n",
    "y = 10\n",
    "conditions = [x > 10, y < 5, x + y != 15]\n",
    "\n",
    "result = any(conditions) # Sprawdzenie czy jakikolwiek element jest True\n",
    "\n",
    "print(result)"
   ]
  },
  {
   "cell_type": "markdown",
   "id": "f901a1ef",
   "metadata": {},
   "source": [
    "**Jak sprawdzić przynależność do klasy/typu?**"
   ]
  },
  {
   "cell_type": "code",
   "execution_count": 48,
   "id": "d2ceb70d",
   "metadata": {},
   "outputs": [
    {
     "name": "stdout",
     "output_type": "stream",
     "text": [
      "True\n"
     ]
    },
    {
     "data": {
      "text/plain": [
       "int"
      ]
     },
     "execution_count": 48,
     "metadata": {},
     "output_type": "execute_result"
    }
   ],
   "source": [
    "s = 'test'\n",
    "num = 123\n",
    "\n",
    "print(isinstance(s, str)) # Sprawdzenie, czy obiekt s jest instancją klasy str\n",
    "type(num) # Sprawdzenie, typu obiektu num"
   ]
  },
  {
   "cell_type": "markdown",
   "id": "83b515f4",
   "metadata": {},
   "source": [
    "**Co zrobi poniżej operator _?**"
   ]
  },
  {
   "cell_type": "code",
   "execution_count": 49,
   "id": "c0fdccee",
   "metadata": {},
   "outputs": [
    {
     "data": {
      "text/plain": [
       "30"
      ]
     },
     "execution_count": 49,
     "metadata": {},
     "output_type": "execute_result"
    }
   ],
   "source": [
    "10 + 20"
   ]
  },
  {
   "cell_type": "markdown",
   "id": "344b0c57-93e2-4e38-92cc-612a5c00615a",
   "metadata": {},
   "source": [
    "_ - operator przechowuje ostatnią wynikowa wartość w interpreterze."
   ]
  },
  {
   "cell_type": "code",
   "execution_count": 51,
   "id": "b21cf503",
   "metadata": {},
   "outputs": [
    {
     "data": {
      "text/plain": [
       "120"
      ]
     },
     "execution_count": 51,
     "metadata": {},
     "output_type": "execute_result"
    }
   ],
   "source": [
    "_ * 2"
   ]
  },
  {
   "cell_type": "markdown",
   "id": "8bf01add",
   "metadata": {},
   "source": [
    "**Co robią operatory a) // i b) dwie gwiazdki?**"
   ]
  },
  {
   "cell_type": "code",
   "execution_count": 55,
   "id": "7351e9ad",
   "metadata": {},
   "outputs": [
    {
     "name": "stdout",
     "output_type": "stream",
     "text": [
      "3\n",
      "36\n"
     ]
    }
   ],
   "source": [
    "print(10//3) # // zwraca całkowitą część ilorazu\n",
    "print(6**2) # ** zwraca wynik potęgowania"
   ]
  },
  {
   "cell_type": "markdown",
   "id": "504c6afd",
   "metadata": {},
   "source": [
    "**Czy w Pythonie są zmienne lokalne i globalne? Jeśli tak, zademonstrować.**"
   ]
  },
  {
   "cell_type": "code",
   "execution_count": 59,
   "id": "2581c188",
   "metadata": {},
   "outputs": [
    {
     "name": "stdout",
     "output_type": "stream",
     "text": [
      "zmienna x wynosi: 5\n",
      "zmienna x wynosi: 100\n"
     ]
    }
   ],
   "source": [
    "x = 5 # zmienna globalna\n",
    "\n",
    "def get_x_info(x):\n",
    "    print(f\"zmienna x wynosi: {x}\")\n",
    "\n",
    "get_x_info(x)\n",
    "\n",
    "def get_squared_x():\n",
    "    x = 10 # zmienna lokalna\n",
    "    return x**2\n",
    "    \n",
    "get_x_info(get_squared_x())"
   ]
  },
  {
   "cell_type": "markdown",
   "id": "377510cf",
   "metadata": {},
   "source": [
    "**Czy pętla for może też iterować dane typu, np. napisy, listy?**"
   ]
  },
  {
   "cell_type": "code",
   "execution_count": 60,
   "id": "8da98412",
   "metadata": {},
   "outputs": [
    {
     "name": "stdout",
     "output_type": "stream",
     "text": [
      "T\n",
      "E\n",
      "S\n",
      "T\n"
     ]
    }
   ],
   "source": [
    "# Tak, pętla for w Pythonie może iterować po każdym obiekcie, który jest iterowalny, czyli posiada metodę __iter__ lub __getitem__\n",
    "\n",
    "for s in \"TEST\":\n",
    "    print(s)"
   ]
  },
  {
   "cell_type": "markdown",
   "id": "ef8d63c5",
   "metadata": {},
   "source": [
    "**Wykonać dodawanie \"12.5\"+10.**"
   ]
  },
  {
   "cell_type": "code",
   "execution_count": 61,
   "id": "064391a0",
   "metadata": {},
   "outputs": [
    {
     "data": {
      "text/plain": [
       "22.5"
      ]
     },
     "execution_count": 61,
     "metadata": {},
     "output_type": "execute_result"
    }
   ],
   "source": [
    "12.5 + 10"
   ]
  },
  {
   "cell_type": "markdown",
   "id": "845fd14f",
   "metadata": {},
   "source": [
    "**Co robi operator ==? Pokazać na typie a) int, b) float, c) str, d) list, e) dict.**"
   ]
  },
  {
   "cell_type": "code",
   "execution_count": 64,
   "id": "e12b07a3",
   "metadata": {},
   "outputs": [
    {
     "data": {
      "text/plain": [
       "True"
      ]
     },
     "execution_count": 64,
     "metadata": {},
     "output_type": "execute_result"
    }
   ],
   "source": [
    "# Operator == jest operatorem porównania, który porównuje wartości miedzy lewą a prawą stroną\n",
    "\n",
    "21 == 37"
   ]
  },
  {
   "cell_type": "code",
   "execution_count": 66,
   "id": "c4e69647-f8d4-4d71-954e-fd3153bc8094",
   "metadata": {},
   "outputs": [
    {
     "data": {
      "text/plain": [
       "False"
      ]
     },
     "execution_count": 66,
     "metadata": {},
     "output_type": "execute_result"
    }
   ],
   "source": [
    "12.0 == 12.1"
   ]
  },
  {
   "cell_type": "code",
   "execution_count": 67,
   "id": "9a3e5670-bdf0-428f-864c-56de4b5a4071",
   "metadata": {},
   "outputs": [
    {
     "data": {
      "text/plain": [
       "True"
      ]
     },
     "execution_count": 67,
     "metadata": {},
     "output_type": "execute_result"
    }
   ],
   "source": [
    "\"hello world\" == \"hello world\""
   ]
  },
  {
   "cell_type": "code",
   "execution_count": 69,
   "id": "d1f84217-a45a-4f13-8ea5-2b4bf85cc837",
   "metadata": {},
   "outputs": [
    {
     "data": {
      "text/plain": [
       "False"
      ]
     },
     "execution_count": 69,
     "metadata": {},
     "output_type": "execute_result"
    }
   ],
   "source": [
    "[\"pies\", \"kot\"] == [\"kot\", \"pies\"]"
   ]
  },
  {
   "cell_type": "code",
   "execution_count": 71,
   "id": "60f5dee5-005b-432b-951e-8974b6b5f1ac",
   "metadata": {},
   "outputs": [
    {
     "data": {
      "text/plain": [
       "True"
      ]
     },
     "execution_count": 71,
     "metadata": {},
     "output_type": "execute_result"
    }
   ],
   "source": [
    "{'imie':\"Konrad\"} == {'imie':'Konrad'}"
   ]
  },
  {
   "cell_type": "markdown",
   "id": "adca55be",
   "metadata": {},
   "source": [
    "**Co robi operator \"is\"? Pokazać na typie a) int, b) float, c) str, d) list, e) dict.**"
   ]
  },
  {
   "cell_type": "markdown",
   "id": "f938438a-4639-4aa7-a86c-470e2fd1b802",
   "metadata": {},
   "source": [
    "Operator is w Pythonie sprawdza tożsamość obiektów – czyli czy dwa zmienne wskazują na dokładnie ten sam obiekt w pamięci (a nie tylko czy są \"równe\" pod względem wartości, jak robi to ==)."
   ]
  },
  {
   "cell_type": "code",
   "execution_count": 72,
   "id": "ff9537bd",
   "metadata": {},
   "outputs": [
    {
     "name": "stdout",
     "output_type": "stream",
     "text": [
      "True\n",
      "False\n"
     ]
    }
   ],
   "source": [
    "a = 100\n",
    "b = 100\n",
    "print(a is b)   # True (małe liczby są internowane – interpreter może przechowywać jedną kopię danego obiektu w pamięci i używać jej wielokrotnie, zamiast tworzyć nowy obiekt za każdym razem)\n",
    "\n",
    "c = 1000\n",
    "d = 1000\n",
    "print(c is d)   # False (większe liczby często nie są internowane)"
   ]
  },
  {
   "cell_type": "code",
   "execution_count": 73,
   "id": "42f3c709-09b8-42f8-993b-f9192943b894",
   "metadata": {},
   "outputs": [
    {
     "name": "stdout",
     "output_type": "stream",
     "text": [
      "False\n"
     ]
    }
   ],
   "source": [
    "a = 1.5\n",
    "b = 1.5\n",
    "print(a is b)   # Może być False (float nie są internowane jak int)"
   ]
  },
  {
   "cell_type": "code",
   "execution_count": 74,
   "id": "c3d6e847-7ef3-4101-a925-41e74ef6f687",
   "metadata": {},
   "outputs": [
    {
     "name": "stdout",
     "output_type": "stream",
     "text": [
      "True\n",
      "False\n"
     ]
    }
   ],
   "source": [
    "a = \"hello\"\n",
    "b = \"hello\"\n",
    "print(a is b)   # True (małe, proste stringi są internowane)\n",
    "\n",
    "c = \"hello world with spaces\"\n",
    "d = \"hello world with spaces\"\n",
    "print(c is d)   # Może być False (większe stringi nie zawsze są internowane)\n"
   ]
  },
  {
   "cell_type": "code",
   "execution_count": 75,
   "id": "2812bde5-899f-4f81-b565-447bb39406d6",
   "metadata": {},
   "outputs": [
    {
     "name": "stdout",
     "output_type": "stream",
     "text": [
      "True\n",
      "False\n",
      "True\n"
     ]
    }
   ],
   "source": [
    "a = [1, 2, 3]\n",
    "b = [1, 2, 3]\n",
    "print(a == b)   # True (wartości równe)\n",
    "print(a is b)   # False (dwie różne listy w pamięci)\n",
    "\n",
    "c = a\n",
    "print(a is c)   # True (bo c to tylko inna nazwa tego samego obiektu)\n"
   ]
  },
  {
   "cell_type": "code",
   "execution_count": 76,
   "id": "26fef19a-43da-4324-bd00-66ee2da83a8a",
   "metadata": {},
   "outputs": [
    {
     "name": "stdout",
     "output_type": "stream",
     "text": [
      "True\n",
      "False\n",
      "True\n"
     ]
    }
   ],
   "source": [
    "a = {\"x\": 1}\n",
    "b = {\"x\": 1}\n",
    "print(a == b)   # True\n",
    "print(a is b)   # False (dwa różne słowniki)\n",
    "\n",
    "c = a\n",
    "print(a is c)   # True\n"
   ]
  },
  {
   "cell_type": "markdown",
   "id": "81e87797",
   "metadata": {},
   "source": [
    "**Do czego służy generator? Pokazać w działaniu.**"
   ]
  },
  {
   "cell_type": "code",
   "execution_count": null,
   "id": "4510c150",
   "metadata": {},
   "outputs": [],
   "source": []
  },
  {
   "cell_type": "markdown",
   "id": "9bf608b6",
   "metadata": {},
   "source": [
    "**Co to jest dekorator? Pokazać przykład.**"
   ]
  },
  {
   "cell_type": "code",
   "execution_count": null,
   "id": "04f4407c",
   "metadata": {},
   "outputs": [],
   "source": []
  },
  {
   "cell_type": "markdown",
   "id": "83ede6df",
   "metadata": {},
   "source": [
    "**Do czego służą funkcje lambda? (podać przykłady). Kiedy konieczne jest ich użycie? Jakiego typu są te funkcje?**"
   ]
  },
  {
   "cell_type": "code",
   "execution_count": null,
   "id": "921d0439",
   "metadata": {},
   "outputs": [],
   "source": []
  },
  {
   "cell_type": "markdown",
   "id": "347894e1",
   "metadata": {},
   "source": [
    "**Czy można wywoływać funkcję lambda w innej funkcji lambda?**"
   ]
  },
  {
   "cell_type": "code",
   "execution_count": null,
   "id": "5652ec0f",
   "metadata": {},
   "outputs": [],
   "source": []
  },
  {
   "cell_type": "markdown",
   "id": "276e1944",
   "metadata": {},
   "source": [
    "**Jak zaaplikować funkcję lambda do kontenera iterowalnego (np. listy)?\n",
    "Rozważyć: a) filtrację elementów niespełniających, b) modyfikacje wszystkich elementów, c) wyliczenie pojedynczego wyniku ze wszystkich elementów**"
   ]
  },
  {
   "cell_type": "code",
   "execution_count": 22,
   "id": "f8bcbb79",
   "metadata": {},
   "outputs": [],
   "source": [
    "numbers = [1, 2, 3, 4, 5, 6, 7, 8, 9, 10, 11, 12]\n",
    "#a) zachować tylko elementy podzielne przez 2 lub 3\n",
    "\n",
    "#b) dla każdego elementu wypisać resztę z dzielenia przez 2\n",
    "\n",
    "#c) wyliczyć wartość zagregowaną, np. sumę"
   ]
  },
  {
   "cell_type": "markdown",
   "id": "a2970fbb",
   "metadata": {},
   "source": [
    "**Podać przykłady funkcji lambda z: a) argumentami nazwanymi, b) zmienną liczbą argumentów, c) argumentami pozycyjnymi.**"
   ]
  },
  {
   "cell_type": "code",
   "execution_count": 14,
   "id": "acfbbbf9",
   "metadata": {},
   "outputs": [
    {
     "data": {
      "text/plain": [
       "105"
      ]
     },
     "execution_count": 14,
     "metadata": {},
     "output_type": "execute_result"
    }
   ],
   "source": [
    "#a) named arguments\n",
    "\n",
    "#b) variable list of arguments\n",
    "\n",
    "#c) positional arguments"
   ]
  },
  {
   "cell_type": "markdown",
   "id": "f0606785",
   "metadata": {},
   "source": [
    "**Która funkcja lambda jest nielegalna?**"
   ]
  },
  {
   "cell_type": "raw",
   "id": "d8d829e9",
   "metadata": {},
   "source": [
    "lambda a, b, c: [*(a, b, c)]\n",
    "lambda **b, *a: print(a, b); 4, 5\n",
    "lambda *b, **a: print(a, b); 4, 5\n",
    "lambda a, b: map(int, [a, b])"
   ]
  },
  {
   "cell_type": "markdown",
   "id": "f71dc14f",
   "metadata": {},
   "source": [
    "**Wywołać poniższą funkcję. Co to są \"args\" i \"kwargs\"?**"
   ]
  },
  {
   "cell_type": "code",
   "execution_count": 24,
   "id": "e93e49a0",
   "metadata": {},
   "outputs": [],
   "source": [
    "def func(*args, **kwargs):  \n",
    "    print(args)  \n",
    "    print(kwargs)"
   ]
  },
  {
   "cell_type": "markdown",
   "id": "b2fdef43",
   "metadata": {},
   "source": [
    "**Czy funkcja może wziąć jako argument inną funkcję i wykonać działanie wewnętrzne wg. tej funkcji?**"
   ]
  },
  {
   "cell_type": "code",
   "execution_count": null,
   "id": "57576009",
   "metadata": {},
   "outputs": [],
   "source": []
  },
  {
   "cell_type": "markdown",
   "id": "1a50997d",
   "metadata": {},
   "source": [
    "**Co to jest \"closure\" w Pythonie? Podać przykład.**"
   ]
  },
  {
   "cell_type": "code",
   "execution_count": null,
   "id": "11b84802",
   "metadata": {},
   "outputs": [],
   "source": []
  },
  {
   "cell_type": "markdown",
   "id": "4c54d21c",
   "metadata": {},
   "source": [
    "***Co to jest funkcja \"cząstkowa\"?**"
   ]
  },
  {
   "cell_type": "code",
   "execution_count": null,
   "id": "9a14d8c0",
   "metadata": {},
   "outputs": [],
   "source": []
  },
  {
   "cell_type": "markdown",
   "id": "7603face",
   "metadata": {},
   "source": [
    "**Jak działa taka funkcja?**"
   ]
  },
  {
   "cell_type": "code",
   "execution_count": 26,
   "id": "c70c315c",
   "metadata": {},
   "outputs": [],
   "source": [
    "def f2(*names):\n",
    "    for name in names:\n",
    "        print(name)\n",
    "        "
   ]
  },
  {
   "cell_type": "markdown",
   "id": "751d2864",
   "metadata": {},
   "source": [
    "**Jak dodać stałą wartość do każdego elementu listy?**"
   ]
  },
  {
   "cell_type": "code",
   "execution_count": 1,
   "id": "91be6c59",
   "metadata": {},
   "outputs": [
    {
     "name": "stdout",
     "output_type": "stream",
     "text": [
      "[13, 14, 15]\n"
     ]
    }
   ],
   "source": [
    "def add_all(num_list, num):\n",
    "    ...\n",
    "\n",
    "#przykładowe wywołanie\n",
    "x = add_all([3, 4, 5], 10)"
   ]
  },
  {
   "cell_type": "markdown",
   "id": "2f28b81e",
   "metadata": {},
   "source": [
    "**Jak efektywnie wywołać funkcję dla każdego elementu np. listy?**"
   ]
  },
  {
   "cell_type": "code",
   "execution_count": 25,
   "id": "a28fb168",
   "metadata": {
    "scrolled": true
   },
   "outputs": [],
   "source": [
    "lista = [1, 2, 3, 4, 5]\n",
    "def f1(item):\n",
    "    print(item)\n"
   ]
  },
  {
   "cell_type": "markdown",
   "id": "4dc2d098",
   "metadata": {},
   "source": [
    "**Czy funkcja w Pythonie może zwracać więcej niż jedną wartość?**"
   ]
  },
  {
   "cell_type": "code",
   "execution_count": null,
   "id": "518ae8c5",
   "metadata": {},
   "outputs": [],
   "source": []
  },
  {
   "cell_type": "markdown",
   "id": "751fc019",
   "metadata": {},
   "source": [
    "**Co to są metody statyczne? Pokazać przykład takiej metody.**"
   ]
  },
  {
   "cell_type": "code",
   "execution_count": null,
   "id": "6dad98d5",
   "metadata": {},
   "outputs": [],
   "source": []
  },
  {
   "cell_type": "markdown",
   "id": "5c8226eb",
   "metadata": {},
   "source": [
    "**Co to są metody klasy udekorowane przez @classmethod?**"
   ]
  },
  {
   "cell_type": "code",
   "execution_count": null,
   "id": "7af00223",
   "metadata": {},
   "outputs": [],
   "source": []
  },
  {
   "cell_type": "markdown",
   "id": "d2ef0c81",
   "metadata": {},
   "source": [
    "**Jak zrobić atrybuty read-only w klasie?**"
   ]
  },
  {
   "cell_type": "code",
   "execution_count": null,
   "id": "9609ee1a",
   "metadata": {},
   "outputs": [],
   "source": []
  },
  {
   "cell_type": "markdown",
   "id": "8da2e6e6",
   "metadata": {},
   "source": [
    "**Podać przykład dziedziczenia w Pythonie.**"
   ]
  },
  {
   "cell_type": "code",
   "execution_count": null,
   "id": "5fec7cd8",
   "metadata": {
    "scrolled": true
   },
   "outputs": [],
   "source": []
  },
  {
   "cell_type": "markdown",
   "id": "46610307",
   "metadata": {},
   "source": [
    "**Jak zrobić funkcje typu getter i setter w Pythonie?**"
   ]
  },
  {
   "cell_type": "code",
   "execution_count": null,
   "id": "38eb190e",
   "metadata": {},
   "outputs": [],
   "source": []
  },
  {
   "cell_type": "markdown",
   "id": "5dbd1fe6",
   "metadata": {},
   "source": [
    "**Co to jest deskryptor?**"
   ]
  },
  {
   "cell_type": "code",
   "execution_count": null,
   "id": "bdc80b6d",
   "metadata": {},
   "outputs": [],
   "source": []
  },
  {
   "cell_type": "raw",
   "id": "2cc91abf",
   "metadata": {},
   "source": [
    "**Do czego służy metoda __call__ ?**"
   ]
  },
  {
   "cell_type": "code",
   "execution_count": null,
   "id": "97327ba7",
   "metadata": {},
   "outputs": [],
   "source": []
  },
  {
   "cell_type": "markdown",
   "id": "33cb02ca",
   "metadata": {},
   "source": [
    "**Co robią te metody?**"
   ]
  },
  {
   "cell_type": "code",
   "execution_count": null,
   "id": "bf38018d",
   "metadata": {},
   "outputs": [],
   "source": [
    "class Dog:\n",
    "    def __init__(self, name):\n",
    "        self.name = name\n",
    "\n",
    "    def __getattr__(self, key):\n",
    "        return 'apple'\n",
    "    \n",
    "    def __getattribute__(self, key):\n",
    "        return 'orange'\n",
    "    \n",
    "    def __getitem__(self, key):\n",
    "        return 'pear'\n",
    "\n",
    "dog = Dog('rocky')\n",
    "print(dog.name)      #??"
   ]
  }
 ],
 "metadata": {
  "kernelspec": {
   "display_name": "Python 3 (ipykernel)",
   "language": "python",
   "name": "python3"
  },
  "language_info": {
   "codemirror_mode": {
    "name": "ipython",
    "version": 3
   },
   "file_extension": ".py",
   "mimetype": "text/x-python",
   "name": "python",
   "nbconvert_exporter": "python",
   "pygments_lexer": "ipython3",
   "version": "3.8.12"
  }
 },
 "nbformat": 4,
 "nbformat_minor": 5
}
