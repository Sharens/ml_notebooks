{
 "cells": [
  {
   "cell_type": "markdown",
   "id": "0b02aa70",
   "metadata": {},
   "source": [
    "# Splits Zadanie - Rozwiązanie\n",
    "Notebook prezentuje podziały danych i ewaluację modelu zgodnie z dobrymi praktykami ML.\n"
   ]
  },
  {
   "cell_type": "code",
   "execution_count": 3,
   "id": "ac77be5e",
   "metadata": {},
   "outputs": [],
   "source": [
    "import numpy as np\n",
    "from sklearn.datasets import make_classification\n",
    "from sklearn.model_selection import (train_test_split, StratifiedShuffleSplit, KFold, StratifiedKFold, LeaveOneOut, cross_val_score)\n",
    "from sklearn.pipeline import Pipeline\n",
    "from sklearn.preprocessing import StandardScaler\n",
    "from sklearn.linear_model import LogisticRegression\n"
   ]
  },
  {
   "cell_type": "code",
   "execution_count": null,
   "id": "0593f510",
   "metadata": {},
   "outputs": [],
   "source": [
    "# Generowanie danychpip install scikit-learn\n",
    "X, y = make_classification(n_samples=1000, n_features=2, n_informative=2, n_redundant=0, n_clusters_per_class=1, random_state=42)"
   ]
  },
  {
   "cell_type": "code",
   "execution_count": null,
   "id": "6de857c9",
   "metadata": {},
   "outputs": [],
   "source": [
    "# Definicja pipeline\n",
    "pipeline = Pipeline([('scaler', StandardScaler()), ('clf', LogisticRegression(random_state=42, max_iter=1000))])"
   ]
  },
  {
   "cell_type": "markdown",
   "id": "829e2845-18db-421f-85d0-2803dafeb358",
   "metadata": {},
   "source": [
    "## Holdout Split\n",
    "\n",
    "**Opis teoretyczny:**  \n",
    "Metoda Holdout polega na jednorazowym podziale danych na zbiór treningowy i testowy.  \n",
    "Dzięki temu sprawdzamy, jak model generalizuje na niewidziane wcześniej dane.\n",
    "\n",
    "**Parametry najczęściej spotykane w scikit-learn:**  \n",
    "- `test_size` – odsetek danych na test (np. 0.3)  \n",
    "- `random_state` – ziarno losowania dla powtarzalności\n",
    "\n",
    "**Zalety:**  \n",
    "- bardzo prosta i szybka implementacja  \n",
    "\n",
    "**Wady:**  \n",
    "- ocena może silnie zależeć od konkretnego losowania  \n",
    "- marnuje dane (nie używamy ich w treningu)  "
   ]
  },
  {
   "cell_type": "code",
   "execution_count": 6,
   "id": "1a674795",
   "metadata": {},
   "outputs": [
    {
     "name": "stdout",
     "output_type": "stream",
     "text": [
      "Holdout split accuracy: 0.887\n"
     ]
    }
   ],
   "source": [
    "# 1. Holdout split\n",
    "X_train, X_test, y_train, y_test = train_test_split(X, y, test_size=0.3, random_state=42, stratify=y)\n",
    "pipeline.fit(X_train, y_train)\n",
    "print(f\"Holdout split accuracy: {pipeline.score(X_test, y_test):.3f}\")\n"
   ]
  },
  {
   "cell_type": "markdown",
   "id": "71236420-6278-4961-a800-ab7f01dd54ac",
   "metadata": {},
   "source": [
    "## Stratified Shuffle Split\n",
    "\n",
    "**Opis teoretyczny:**  \n",
    "To Holdout przeprowadzony wielokrotnie (n _splits_), z zachowaniem proporcji klas (stratą).  \n",
    "W każdej iteracji wybieramy losowo nowe próbki, ale dbamy, by w zbiorze testowym i treningowym było tyle samo procentowo każdej klasy.\n",
    "\n",
    "**Kiedy używać:**  \n",
    "- przy nierównomiernym rozkładzie klas  \n",
    "- gdy zależy nam na stabilniejszej ocenie niż w pojedynczym Holdout\n",
    "\n",
    "**Zalety:**  \n",
    "- mniejsza wariancja wyniku  \n",
    "- zachowanie rozkładu klas w każdym podziale  "
   ]
  },
  {
   "cell_type": "code",
   "execution_count": 7,
   "id": "ae6bb88b",
   "metadata": {},
   "outputs": [
    {
     "name": "stdout",
     "output_type": "stream",
     "text": [
      "StratifiedShuffleSplit CV accuracy: 0.898 ± 0.008\n"
     ]
    }
   ],
   "source": [
    "# 2. Stratified Shuffle Split CV\n",
    "sss = StratifiedShuffleSplit(n_splits=5, test_size=0.3, random_state=42)\n",
    "scores_sss = cross_val_score(pipeline, X, y, cv=sss, scoring='accuracy')\n",
    "print(f\"StratifiedShuffleSplit CV accuracy: {scores_sss.mean():.3f} ± {scores_sss.std():.3f}\")\n"
   ]
  },
  {
   "cell_type": "markdown",
   "id": "a2fe60e9-6a3c-4386-872a-e2a67e5a4914",
   "metadata": {},
   "source": [
    "## K-Fold Cross-Validation\n",
    "\n",
    "**Opis teoretyczny:**  \n",
    "Dzielimy zbiór na K równych części („foldów”). Model uczymy K razy, za każdym razem:\n",
    "1. Jako walidacyjny używamy innego folda.  \n",
    "2. Pozostałe K–1 foldów łączymy w zbiór treningowy.  \n",
    "\n",
    "Średnia metryka z wszystkich uruchomień to końcowa ocena.\n",
    "\n",
    "**Zalety:**  \n",
    "- pełne wykorzystanie danych (każdy punkt raz trafia do testu)  \n",
    "- stabilna ocena  \n",
    "\n",
    "**Wady:**  \n",
    "- K-krotnie większy koszt obliczeniowy  "
   ]
  },
  {
   "cell_type": "code",
   "execution_count": 8,
   "id": "9e3cba42",
   "metadata": {},
   "outputs": [
    {
     "name": "stdout",
     "output_type": "stream",
     "text": [
      "KFold CV accuracy: 0.901 ± 0.012\n"
     ]
    }
   ],
   "source": [
    "# 3. K-Fold CV\n",
    "kf = KFold(n_splits=5, shuffle=True, random_state=42)\n",
    "scores_kf = cross_val_score(pipeline, X, y, cv=kf, scoring='accuracy')\n",
    "print(f\"KFold CV accuracy: {scores_kf.mean():.3f} ± {scores_kf.std():.3f}\")\n"
   ]
  },
  {
   "cell_type": "markdown",
   "id": "39f381c6-943c-44c8-8e3b-6bb1ba6834f1",
   "metadata": {},
   "source": [
    "## Stratified K-Fold Cross-Validation\n",
    "\n",
    "**Opis teoretyczny:**  \n",
    "To K-Fold z dodatkowym zachowaniem proporcji klas w każdym foldzie.  \n",
    "Dzięki temu przy problemach klasyfikacyjnych unikamy sytuacji, że w jakimś foldzie zabraknie przykładów danej klasy.\n",
    "\n",
    "**Zalety:**  \n",
    "- łączy stabilność K-Folda z poprawnym rozkładem klas  "
   ]
  },
  {
   "cell_type": "code",
   "execution_count": 9,
   "id": "24826690",
   "metadata": {},
   "outputs": [
    {
     "name": "stdout",
     "output_type": "stream",
     "text": [
      "StratifiedKFold CV accuracy: 0.902 ± 0.028\n"
     ]
    }
   ],
   "source": [
    "# 4. Stratified K-Fold CV\n",
    "skf = StratifiedKFold(n_splits=5, shuffle=True, random_state=42)\n",
    "scores_skf = cross_val_score(pipeline, X, y, cv=skf, scoring='accuracy')\n",
    "print(f\"StratifiedKFold CV accuracy: {scores_skf.mean():.3f} ± {scores_skf.std():.3f}\")\n"
   ]
  },
  {
   "cell_type": "markdown",
   "id": "95b2aaf7-2c2d-4482-9836-565eb85899e2",
   "metadata": {},
   "source": [
    "## Leave-One-Out Cross-Validation (LOO)\n",
    "\n",
    "**Opis teoretyczny:**  \n",
    "Specjalny przypadek K-Fold, gdzie K = liczba próbek.  \n",
    "Dla każdej próbki:\n",
    "1. Uczymy na wszystkich pozostałych n–1 próbkach.  \n",
    "2. Testujemy na tej jednej.\n",
    "\n",
    "**Zalety:**  \n",
    "- maksymalne wykorzystanie danych  \n",
    "- minimalny bias  \n",
    "\n",
    "**Wady:**  \n",
    "- ekstremalnie kosztowne obliczeniowo przy większych zbiorach  "
   ]
  },
  {
   "cell_type": "code",
   "execution_count": 10,
   "id": "f1ea4d89",
   "metadata": {},
   "outputs": [
    {
     "name": "stdout",
     "output_type": "stream",
     "text": [
      "LeaveOneOut CV accuracy: 0.903\n"
     ]
    }
   ],
   "source": [
    "# 5. Leave-One-Out CV\n",
    "loo = LeaveOneOut()\n",
    "scores_loo = cross_val_score(pipeline, X, y, cv=loo, scoring='accuracy', n_jobs=-1)\n",
    "print(f\"LeaveOneOut CV accuracy: {scores_loo.mean():.3f}\")\n"
   ]
  }
 ],
 "metadata": {
  "kernelspec": {
   "display_name": "Python 3 (ipykernel)",
   "language": "python",
   "name": "python3"
  },
  "language_info": {
   "codemirror_mode": {
    "name": "ipython",
    "version": 3
   },
   "file_extension": ".py",
   "mimetype": "text/x-python",
   "name": "python",
   "nbconvert_exporter": "python",
   "pygments_lexer": "ipython3",
   "version": "3.12.7"
  }
 },
 "nbformat": 4,
 "nbformat_minor": 5
}
