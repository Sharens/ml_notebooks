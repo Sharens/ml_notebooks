{
 "cells": [
  {
   "cell_type": "markdown",
   "id": "1148fc52-58b4-4bd9-9f2e-c88b566b1492",
   "metadata": {},
   "source": [
    "# zbadać pola i metody obiektów jak poniżej"
   ]
  },
  {
   "cell_type": "markdown",
   "id": "2e23db92",
   "metadata": {},
   "source": [
    "# pola sklearn.datasets.*"
   ]
  },
  {
   "cell_type": "code",
   "execution_count": 1,
   "id": "af8324b4",
   "metadata": {},
   "outputs": [],
   "source": [
    "from sklearn import datasets\n",
    "import pandas as pd\n",
    "\n",
    "data = datasets.load_iris()"
   ]
  },
  {
   "cell_type": "markdown",
   "id": "d4d63368-0d80-4f3a-a5ba-d4066a7d3073",
   "metadata": {},
   "source": [
    "## Opis danych"
   ]
  },
  {
   "cell_type": "code",
   "execution_count": 2,
   "id": "33e1899e-070e-403c-b964-df9032b4433a",
   "metadata": {},
   "outputs": [
    {
     "name": "stdout",
     "output_type": "stream",
     "text": [
      ".. _iris_dataset:\n",
      "\n",
      "Iris plants dataset\n",
      "--------------------\n",
      "\n",
      "**Data Set Characteristics:**\n",
      "\n",
      "    :Number of Instances: 150 (50 in each of three classes)\n",
      "    :Number of Attributes: 4 numeric, predictive attributes and the class\n",
      "    :Attribute Information:\n",
      "        - sepal length in cm\n",
      "        - sepal width in cm\n",
      "        - petal length in cm\n",
      "        - petal width in cm\n",
      "        - class:\n",
      "                - Iris-Setosa\n",
      "                - Iris-Versicolour\n",
      "                - Iris-Virginica\n",
      "                \n",
      "    :Summary Statistics:\n",
      "\n",
      "    ============== ==== ==== ======= ===== ====================\n",
      "                    Min  Max   Mean    SD   Class Correlation\n",
      "    ============== ==== ==== ======= ===== ====================\n",
      "    sepal length:   4.3  7.9   5.84   0.83    0.7826\n",
      "    sepal width:    2.0  4.4   3.05   0.43   -0.4194\n",
      "    petal length:   1.0  6.9   3.76   1.76    0.9490  (high!)\n",
      "    petal width:    0.1  2.5   1.20   0.76    0.9565  (high!)\n",
      "    ============== ==== ==== ======= ===== ====================\n",
      "\n",
      "    :Missing Attribute Values: None\n",
      "    :Class Distribution: 33.3% for each of 3 classes.\n",
      "    :Creator: R.A. Fisher\n",
      "    :Donor: Michael Marshall (MARSHALL%PLU@io.arc.nasa.gov)\n",
      "    :Date: July, 1988\n",
      "\n",
      "The famous Iris database, first used by Sir R.A. Fisher. The dataset is taken\n",
      "from Fisher's paper. Note that it's the same as in R, but not as in the UCI\n",
      "Machine Learning Repository, which has two wrong data points.\n",
      "\n",
      "This is perhaps the best known database to be found in the\n",
      "pattern recognition literature.  Fisher's paper is a classic in the field and\n",
      "is referenced frequently to this day.  (See Duda & Hart, for example.)  The\n",
      "data set contains 3 classes of 50 instances each, where each class refers to a\n",
      "type of iris plant.  One class is linearly separable from the other 2; the\n",
      "latter are NOT linearly separable from each other.\n",
      "\n",
      "|details-start|\n",
      "**References**\n",
      "|details-split|\n",
      "\n",
      "- Fisher, R.A. \"The use of multiple measurements in taxonomic problems\"\n",
      "  Annual Eugenics, 7, Part II, 179-188 (1936); also in \"Contributions to\n",
      "  Mathematical Statistics\" (John Wiley, NY, 1950).\n",
      "- Duda, R.O., & Hart, P.E. (1973) Pattern Classification and Scene Analysis.\n",
      "  (Q327.D83) John Wiley & Sons.  ISBN 0-471-22361-1.  See page 218.\n",
      "- Dasarathy, B.V. (1980) \"Nosing Around the Neighborhood: A New System\n",
      "  Structure and Classification Rule for Recognition in Partially Exposed\n",
      "  Environments\".  IEEE Transactions on Pattern Analysis and Machine\n",
      "  Intelligence, Vol. PAMI-2, No. 1, 67-71.\n",
      "- Gates, G.W. (1972) \"The Reduced Nearest Neighbor Rule\".  IEEE Transactions\n",
      "  on Information Theory, May 1972, 431-433.\n",
      "- See also: 1988 MLC Proceedings, 54-64.  Cheeseman et al\"s AUTOCLASS II\n",
      "  conceptual clustering system finds 3 classes in the data.\n",
      "- Many, many more ...\n",
      "\n",
      "|details-end|\n"
     ]
    }
   ],
   "source": [
    "print(data.DESCR)"
   ]
  },
  {
   "cell_type": "markdown",
   "id": "16aa9205-072a-49c5-820d-f1742a011a5f",
   "metadata": {},
   "source": [
    "**SD – Odchylenie standardowe**\n",
    "\n",
    "* Mierzy, **jak bardzo rozproszone są wartości** danej cechy wokół średniej (`Mean`).\n",
    "* Im większe SD, tym bardziej dane są \"rozrzucone\".\n",
    "* Przykład:\n",
    "\n",
    "  * `sepal width` ma SD = 0.43 (mało zróżnicowana cecha),\n",
    "  * `petal length` ma SD = 1.76 (dużo bardziej zróżnicowana cecha).\n",
    "\n",
    "---\n",
    "\n",
    "**Class Correlation – Korelacja z klasą**\n",
    "\n",
    "* Pokazuje **jak mocno dana cecha jest powiązana z klasą (gatunkiem)**.\n",
    "* Wartość w zakresie `[-1, 1]`:\n",
    "\n",
    "  * `1` oznacza silną dodatnią korelację (cecha dobrze rozróżnia klasy),\n",
    "  * `0` oznacza brak zależności,\n",
    "  * `-1` oznacza silną ujemną korelację.\n",
    "\n",
    "Przykład:\n",
    "* `petal width` → **0.9565** → bardzo mocna zależność z klasą (świetna cecha klasyfikacyjna),\n",
    "* `sepal width` → **-0.4194** → słaba (ujemna) korelacja, mało przydatna w rozróżnianiu gatunków."
   ]
  },
  {
   "cell_type": "markdown",
   "id": "5a8aea80-6293-426d-b7da-37e25764e419",
   "metadata": {},
   "source": [
    "## Typ danych"
   ]
  },
  {
   "cell_type": "code",
   "execution_count": 3,
   "id": "64190d69-ed45-4e4c-a8cf-97211dfac710",
   "metadata": {
    "scrolled": true
   },
   "outputs": [
    {
     "name": "stdout",
     "output_type": "stream",
     "text": [
      "Typ danych: <class 'sklearn.utils._bunch.Bunch'>\n"
     ]
    }
   ],
   "source": [
    "print(\"Typ danych:\", type(data))"
   ]
  },
  {
   "cell_type": "markdown",
   "id": "1759ee89-3e59-4626-938f-7779fe16b575",
   "metadata": {},
   "source": [
    "**`Bunch`** to specjalny typ danych, który jest wykorzystywany w bibliotece `scikit-learn` do przechowywania danych w strukturze przypominającej słownik. Jest to **opakowanie** na dane, które pozwala na łatwy dostęp do różnych elementów, takich jak:\n",
    "\n",
    "* **dane wejściowe** (np. macierz cech),\n",
    "* **etykiety** (np. klasy),\n",
    "* **nazwa atrybutów** (np. nazwy cech),\n",
    "* i inne informacje pomocnicze.\n",
    "\n",
    "`Bunch` działa **podobnie jak słownik**, ale może mieć dodatkowe właściwości, takie jak możliwość dostępu do elementów za pomocą atrybutów (np. `data` zamiast `['data']`).\n",
    "\n",
    "---\n",
    "\n",
    "### Co przechowuje `Bunch`?\n",
    "\n",
    "* **`data`**: macierz cech (np. wartości liczbowe opisujące dane).\n",
    "* **`target`**: etykiety klas (np. kategorie dla danych).\n",
    "* **`feature_names`**: nazwy cech (np. \"długość płatka\").\n",
    "* **`target_names`**: nazwy klas (np. \"setosa\", \"versicolor\").\n",
    "* **Inne meta informacje**: dodatkowe dane, jak dokumentacja lub inne informacje o zbiorze."
   ]
  },
  {
   "cell_type": "markdown",
   "id": "6c5d6e97-3c4e-4dc9-b447-3968df72552e",
   "metadata": {},
   "source": [
    "## Klucze"
   ]
  },
  {
   "cell_type": "code",
   "execution_count": 4,
   "id": "5d58e020-d50c-4d9b-ad99-9119674e83e5",
   "metadata": {
    "scrolled": true
   },
   "outputs": [
    {
     "name": "stdout",
     "output_type": "stream",
     "text": [
      "klucze: dict_keys(['data', 'target', 'frame', 'target_names', 'DESCR', 'feature_names', 'filename', 'data_module'])\n"
     ]
    }
   ],
   "source": [
    "print(\"klucze:\", data.keys())"
   ]
  },
  {
   "cell_type": "markdown",
   "id": "393aba39-a042-4a8c-9e35-ea8f88871ab3",
   "metadata": {},
   "source": [
    "## Macierz Cech\n",
    "\n",
    "**Macierz cech** (*feature matrix*) to po prostu **tabela z danymi**, gdzie:\n",
    "\n",
    "- **wiersze** to **obserwacje/przykłady** (np. pojedyncze kwiaty Irysa),\n",
    "- **kolumny** to **cechy** opisujące każdy przykład (np. długość i szerokość płatków i działek).\n",
    "- Przedstawione dane posłużą jako dane wejściowe dla modelu."
   ]
  },
  {
   "cell_type": "code",
   "execution_count": 5,
   "id": "aded2d8c-c791-42b2-96dd-0a18beb6079f",
   "metadata": {},
   "outputs": [
    {
     "name": "stdout",
     "output_type": "stream",
     "text": [
      "(150, 4)\n",
      "[[5.1 3.5 1.4 0.2]\n",
      " [4.9 3.  1.4 0.2]\n",
      " [4.7 3.2 1.3 0.2]\n",
      " [4.6 3.1 1.5 0.2]\n",
      " [5.  3.6 1.4 0.2]]\n"
     ]
    }
   ],
   "source": [
    "print(data.data.shape)  # (150, 4) – 150 próbek, 4 cechy\n",
    "print(data.data[:5])    # pierwsze 5 wierszy"
   ]
  },
  {
   "cell_type": "markdown",
   "id": "a474ef44-7753-4f5d-b113-abccba74ec61",
   "metadata": {},
   "source": [
    "## Etykiety klas\n",
    "**Etykiety klas** to **nazwy kategorii**, do których należą dane przykłady w zbiorze danych.\n",
    "\n",
    "---\n",
    "\n",
    "### Przykład – Iris:\n",
    "\n",
    "W zbiorze Iris każdy kwiat ma etykietę klasy, która mówi, do jakiego **gatunku** należy:\n",
    "\n",
    "- `setosa`  \n",
    "- `versicolor`  \n",
    "- `virginica`\n",
    "\n",
    "W danych te etykiety mogą być zapisane jako:\n",
    "\n",
    "- **nazwy tekstowe**: `\"setosa\"`, `\"versicolor\"`, `\"virginica\"`  \n",
    "- **liczby**: `0`, `1`, `2` (dla wygody obliczeń)"
   ]
  },
  {
   "cell_type": "code",
   "execution_count": 6,
   "id": "d0d839e7-9547-4e8e-857b-47a170cb973c",
   "metadata": {
    "scrolled": true
   },
   "outputs": [
    {
     "name": "stdout",
     "output_type": "stream",
     "text": [
      "{0, 1, 2}\n"
     ]
    }
   ],
   "source": [
    "print(set(data.target))"
   ]
  },
  {
   "cell_type": "markdown",
   "id": "52c141c1-48bf-4c63-832a-4158af7dbe08",
   "metadata": {},
   "source": [
    "Powyższy wynik przedstawia numeryczne etykiety klas:\n",
    "\n",
    "* 0 = setosa\n",
    "* 1 = versicolor\n",
    "* 2 = virginica"
   ]
  },
  {
   "cell_type": "code",
   "execution_count": 7,
   "id": "da05779e-8c20-4aee-a43f-389f62f9710a",
   "metadata": {},
   "outputs": [
    {
     "name": "stdout",
     "output_type": "stream",
     "text": [
      "['setosa' 'versicolor' 'virginica']\n"
     ]
    }
   ],
   "source": [
    "print(data.target_names) # metoda pokazująca nazwy klas"
   ]
  },
  {
   "cell_type": "markdown",
   "id": "7fcafb54-9c6e-4271-aa5e-68b294cecf77",
   "metadata": {},
   "source": [
    "## Nazwy kolumn"
   ]
  },
  {
   "cell_type": "code",
   "execution_count": 8,
   "id": "ab1082a1-58b4-4ab4-8579-0bd239af7111",
   "metadata": {
    "scrolled": true
   },
   "outputs": [
    {
     "name": "stdout",
     "output_type": "stream",
     "text": [
      "sepal length (cm)\n",
      "sepal width (cm)\n",
      "petal length (cm)\n",
      "petal width (cm)\n"
     ]
    }
   ],
   "source": [
    "for i in data.feature_names:\n",
    "    print(i)"
   ]
  },
  {
   "cell_type": "markdown",
   "id": "b4687246",
   "metadata": {},
   "source": [
    "---\n",
    "---\n",
    "# pola sklearn.datasets.* wczytane z flagą \"as_frame\""
   ]
  },
  {
   "cell_type": "markdown",
   "id": "7ce1dc5b-5e1f-43fa-94e6-cc201c81a6ea",
   "metadata": {},
   "source": [
    "Użycie `load_iris(as_frame=True)` powoduje, że dane zostają załadowane jako obiekt `Bunch`, którego elementy `data` oraz `target` mają postać struktur `pandas`."
   ]
  },
  {
   "cell_type": "code",
   "execution_count": 9,
   "id": "a9b5f070",
   "metadata": {},
   "outputs": [],
   "source": [
    "from sklearn import datasets\n",
    "import pandas as pd\n",
    "\n",
    "df = datasets.load_iris(as_frame=True)"
   ]
  },
  {
   "cell_type": "code",
   "execution_count": 10,
   "id": "c77defb3",
   "metadata": {
    "scrolled": true
   },
   "outputs": [
    {
     "data": {
      "text/plain": [
       "sklearn.utils._bunch.Bunch"
      ]
     },
     "execution_count": 10,
     "metadata": {},
     "output_type": "execute_result"
    }
   ],
   "source": [
    "type(df)"
   ]
  },
  {
   "cell_type": "code",
   "execution_count": 11,
   "id": "6b4e397d-2493-40b8-8b2b-ffed12567d50",
   "metadata": {
    "scrolled": true
   },
   "outputs": [
    {
     "data": {
      "text/plain": [
       "pandas.core.frame.DataFrame"
      ]
     },
     "execution_count": 11,
     "metadata": {},
     "output_type": "execute_result"
    }
   ],
   "source": [
    "type(df.data)"
   ]
  },
  {
   "cell_type": "code",
   "execution_count": 12,
   "id": "eadbcba5-e8bb-450e-be17-da8f617a4744",
   "metadata": {},
   "outputs": [
    {
     "data": {
      "text/plain": [
       "pandas.core.series.Series"
      ]
     },
     "execution_count": 12,
     "metadata": {},
     "output_type": "execute_result"
    }
   ],
   "source": [
    "type(df.target)"
   ]
  },
  {
   "cell_type": "markdown",
   "id": "10b75d99-de15-4bd8-afa3-75f76eb689c0",
   "metadata": {},
   "source": [
    "# Pola Dataframe"
   ]
  },
  {
   "cell_type": "code",
   "execution_count": 13,
   "id": "5789e722-872e-4de4-9eb8-7b964769c8f2",
   "metadata": {},
   "outputs": [],
   "source": [
    "df_pd = df.data"
   ]
  },
  {
   "cell_type": "markdown",
   "id": "9698114c-4064-4b76-8b69-a74345051173",
   "metadata": {},
   "source": [
    "### DataFrame - Pierwsze 10 wierszy z datasetu"
   ]
  },
  {
   "cell_type": "code",
   "execution_count": 14,
   "id": "a292e8b9-a4b5-4bf5-b219-dd5f8e38e609",
   "metadata": {},
   "outputs": [
    {
     "data": {
      "text/html": [
       "<style type=\"text/css\">\n",
       "</style>\n",
       "<table id=\"T_4feb1\">\n",
       "  <thead>\n",
       "    <tr>\n",
       "      <th class=\"blank level0\" >&nbsp;</th>\n",
       "      <th id=\"T_4feb1_level0_col0\" class=\"col_heading level0 col0\" >sepal length (cm)</th>\n",
       "      <th id=\"T_4feb1_level0_col1\" class=\"col_heading level0 col1\" >sepal width (cm)</th>\n",
       "      <th id=\"T_4feb1_level0_col2\" class=\"col_heading level0 col2\" >petal length (cm)</th>\n",
       "      <th id=\"T_4feb1_level0_col3\" class=\"col_heading level0 col3\" >petal width (cm)</th>\n",
       "    </tr>\n",
       "  </thead>\n",
       "  <tbody>\n",
       "    <tr>\n",
       "      <th id=\"T_4feb1_level0_row0\" class=\"row_heading level0 row0\" >0</th>\n",
       "      <td id=\"T_4feb1_row0_col0\" class=\"data row0 col0\" >5.100000</td>\n",
       "      <td id=\"T_4feb1_row0_col1\" class=\"data row0 col1\" >3.500000</td>\n",
       "      <td id=\"T_4feb1_row0_col2\" class=\"data row0 col2\" >1.400000</td>\n",
       "      <td id=\"T_4feb1_row0_col3\" class=\"data row0 col3\" >0.200000</td>\n",
       "    </tr>\n",
       "    <tr>\n",
       "      <th id=\"T_4feb1_level0_row1\" class=\"row_heading level0 row1\" >1</th>\n",
       "      <td id=\"T_4feb1_row1_col0\" class=\"data row1 col0\" >4.900000</td>\n",
       "      <td id=\"T_4feb1_row1_col1\" class=\"data row1 col1\" >3.000000</td>\n",
       "      <td id=\"T_4feb1_row1_col2\" class=\"data row1 col2\" >1.400000</td>\n",
       "      <td id=\"T_4feb1_row1_col3\" class=\"data row1 col3\" >0.200000</td>\n",
       "    </tr>\n",
       "    <tr>\n",
       "      <th id=\"T_4feb1_level0_row2\" class=\"row_heading level0 row2\" >2</th>\n",
       "      <td id=\"T_4feb1_row2_col0\" class=\"data row2 col0\" >4.700000</td>\n",
       "      <td id=\"T_4feb1_row2_col1\" class=\"data row2 col1\" >3.200000</td>\n",
       "      <td id=\"T_4feb1_row2_col2\" class=\"data row2 col2\" >1.300000</td>\n",
       "      <td id=\"T_4feb1_row2_col3\" class=\"data row2 col3\" >0.200000</td>\n",
       "    </tr>\n",
       "    <tr>\n",
       "      <th id=\"T_4feb1_level0_row3\" class=\"row_heading level0 row3\" >3</th>\n",
       "      <td id=\"T_4feb1_row3_col0\" class=\"data row3 col0\" >4.600000</td>\n",
       "      <td id=\"T_4feb1_row3_col1\" class=\"data row3 col1\" >3.100000</td>\n",
       "      <td id=\"T_4feb1_row3_col2\" class=\"data row3 col2\" >1.500000</td>\n",
       "      <td id=\"T_4feb1_row3_col3\" class=\"data row3 col3\" >0.200000</td>\n",
       "    </tr>\n",
       "    <tr>\n",
       "      <th id=\"T_4feb1_level0_row4\" class=\"row_heading level0 row4\" >4</th>\n",
       "      <td id=\"T_4feb1_row4_col0\" class=\"data row4 col0\" >5.000000</td>\n",
       "      <td id=\"T_4feb1_row4_col1\" class=\"data row4 col1\" >3.600000</td>\n",
       "      <td id=\"T_4feb1_row4_col2\" class=\"data row4 col2\" >1.400000</td>\n",
       "      <td id=\"T_4feb1_row4_col3\" class=\"data row4 col3\" >0.200000</td>\n",
       "    </tr>\n",
       "    <tr>\n",
       "      <th id=\"T_4feb1_level0_row5\" class=\"row_heading level0 row5\" >5</th>\n",
       "      <td id=\"T_4feb1_row5_col0\" class=\"data row5 col0\" >5.400000</td>\n",
       "      <td id=\"T_4feb1_row5_col1\" class=\"data row5 col1\" >3.900000</td>\n",
       "      <td id=\"T_4feb1_row5_col2\" class=\"data row5 col2\" >1.700000</td>\n",
       "      <td id=\"T_4feb1_row5_col3\" class=\"data row5 col3\" >0.400000</td>\n",
       "    </tr>\n",
       "    <tr>\n",
       "      <th id=\"T_4feb1_level0_row6\" class=\"row_heading level0 row6\" >6</th>\n",
       "      <td id=\"T_4feb1_row6_col0\" class=\"data row6 col0\" >4.600000</td>\n",
       "      <td id=\"T_4feb1_row6_col1\" class=\"data row6 col1\" >3.400000</td>\n",
       "      <td id=\"T_4feb1_row6_col2\" class=\"data row6 col2\" >1.400000</td>\n",
       "      <td id=\"T_4feb1_row6_col3\" class=\"data row6 col3\" >0.300000</td>\n",
       "    </tr>\n",
       "    <tr>\n",
       "      <th id=\"T_4feb1_level0_row7\" class=\"row_heading level0 row7\" >7</th>\n",
       "      <td id=\"T_4feb1_row7_col0\" class=\"data row7 col0\" >5.000000</td>\n",
       "      <td id=\"T_4feb1_row7_col1\" class=\"data row7 col1\" >3.400000</td>\n",
       "      <td id=\"T_4feb1_row7_col2\" class=\"data row7 col2\" >1.500000</td>\n",
       "      <td id=\"T_4feb1_row7_col3\" class=\"data row7 col3\" >0.200000</td>\n",
       "    </tr>\n",
       "    <tr>\n",
       "      <th id=\"T_4feb1_level0_row8\" class=\"row_heading level0 row8\" >8</th>\n",
       "      <td id=\"T_4feb1_row8_col0\" class=\"data row8 col0\" >4.400000</td>\n",
       "      <td id=\"T_4feb1_row8_col1\" class=\"data row8 col1\" >2.900000</td>\n",
       "      <td id=\"T_4feb1_row8_col2\" class=\"data row8 col2\" >1.400000</td>\n",
       "      <td id=\"T_4feb1_row8_col3\" class=\"data row8 col3\" >0.200000</td>\n",
       "    </tr>\n",
       "    <tr>\n",
       "      <th id=\"T_4feb1_level0_row9\" class=\"row_heading level0 row9\" >9</th>\n",
       "      <td id=\"T_4feb1_row9_col0\" class=\"data row9 col0\" >4.900000</td>\n",
       "      <td id=\"T_4feb1_row9_col1\" class=\"data row9 col1\" >3.100000</td>\n",
       "      <td id=\"T_4feb1_row9_col2\" class=\"data row9 col2\" >1.500000</td>\n",
       "      <td id=\"T_4feb1_row9_col3\" class=\"data row9 col3\" >0.100000</td>\n",
       "    </tr>\n",
       "  </tbody>\n",
       "</table>\n"
      ],
      "text/plain": [
       "<pandas.io.formats.style.Styler at 0x7f723b9351c0>"
      ]
     },
     "execution_count": 14,
     "metadata": {},
     "output_type": "execute_result"
    }
   ],
   "source": [
    "df_pd.head(10).style"
   ]
  },
  {
   "cell_type": "markdown",
   "id": "466826f9-009d-443c-8b85-923b32690b20",
   "metadata": {},
   "source": [
    "### DataFrame - informacje ogólne"
   ]
  },
  {
   "cell_type": "code",
   "execution_count": 15,
   "id": "0c3f56fe-e1f4-40c7-ad8a-0a2948e52139",
   "metadata": {},
   "outputs": [
    {
     "name": "stdout",
     "output_type": "stream",
     "text": [
      "<class 'pandas.core.frame.DataFrame'>\n",
      "RangeIndex: 150 entries, 0 to 149\n",
      "Data columns (total 4 columns):\n",
      " #   Column             Non-Null Count  Dtype  \n",
      "---  ------             --------------  -----  \n",
      " 0   sepal length (cm)  150 non-null    float64\n",
      " 1   sepal width (cm)   150 non-null    float64\n",
      " 2   petal length (cm)  150 non-null    float64\n",
      " 3   petal width (cm)   150 non-null    float64\n",
      "dtypes: float64(4)\n",
      "memory usage: 4.8 KB\n"
     ]
    }
   ],
   "source": [
    "df_pd.info()"
   ]
  },
  {
   "cell_type": "markdown",
   "id": "2a7e7394-6652-49de-ba0a-46e66ce656d8",
   "metadata": {},
   "source": [
    "## DataFrame - statystyki opisowe"
   ]
  },
  {
   "cell_type": "code",
   "execution_count": 16,
   "id": "87388b19-0d80-49c2-9966-3c64937230c5",
   "metadata": {},
   "outputs": [
    {
     "data": {
      "text/html": [
       "<div>\n",
       "<style scoped>\n",
       "    .dataframe tbody tr th:only-of-type {\n",
       "        vertical-align: middle;\n",
       "    }\n",
       "\n",
       "    .dataframe tbody tr th {\n",
       "        vertical-align: top;\n",
       "    }\n",
       "\n",
       "    .dataframe thead th {\n",
       "        text-align: right;\n",
       "    }\n",
       "</style>\n",
       "<table border=\"1\" class=\"dataframe\">\n",
       "  <thead>\n",
       "    <tr style=\"text-align: right;\">\n",
       "      <th></th>\n",
       "      <th>sepal length (cm)</th>\n",
       "      <th>sepal width (cm)</th>\n",
       "      <th>petal length (cm)</th>\n",
       "      <th>petal width (cm)</th>\n",
       "    </tr>\n",
       "  </thead>\n",
       "  <tbody>\n",
       "    <tr>\n",
       "      <th>count</th>\n",
       "      <td>150.000000</td>\n",
       "      <td>150.000000</td>\n",
       "      <td>150.000000</td>\n",
       "      <td>150.000000</td>\n",
       "    </tr>\n",
       "    <tr>\n",
       "      <th>mean</th>\n",
       "      <td>5.843333</td>\n",
       "      <td>3.057333</td>\n",
       "      <td>3.758000</td>\n",
       "      <td>1.199333</td>\n",
       "    </tr>\n",
       "    <tr>\n",
       "      <th>std</th>\n",
       "      <td>0.828066</td>\n",
       "      <td>0.435866</td>\n",
       "      <td>1.765298</td>\n",
       "      <td>0.762238</td>\n",
       "    </tr>\n",
       "    <tr>\n",
       "      <th>min</th>\n",
       "      <td>4.300000</td>\n",
       "      <td>2.000000</td>\n",
       "      <td>1.000000</td>\n",
       "      <td>0.100000</td>\n",
       "    </tr>\n",
       "    <tr>\n",
       "      <th>25%</th>\n",
       "      <td>5.100000</td>\n",
       "      <td>2.800000</td>\n",
       "      <td>1.600000</td>\n",
       "      <td>0.300000</td>\n",
       "    </tr>\n",
       "    <tr>\n",
       "      <th>50%</th>\n",
       "      <td>5.800000</td>\n",
       "      <td>3.000000</td>\n",
       "      <td>4.350000</td>\n",
       "      <td>1.300000</td>\n",
       "    </tr>\n",
       "    <tr>\n",
       "      <th>75%</th>\n",
       "      <td>6.400000</td>\n",
       "      <td>3.300000</td>\n",
       "      <td>5.100000</td>\n",
       "      <td>1.800000</td>\n",
       "    </tr>\n",
       "    <tr>\n",
       "      <th>max</th>\n",
       "      <td>7.900000</td>\n",
       "      <td>4.400000</td>\n",
       "      <td>6.900000</td>\n",
       "      <td>2.500000</td>\n",
       "    </tr>\n",
       "  </tbody>\n",
       "</table>\n",
       "</div>"
      ],
      "text/plain": [
       "       sepal length (cm)  sepal width (cm)  petal length (cm)  \\\n",
       "count         150.000000        150.000000         150.000000   \n",
       "mean            5.843333          3.057333           3.758000   \n",
       "std             0.828066          0.435866           1.765298   \n",
       "min             4.300000          2.000000           1.000000   \n",
       "25%             5.100000          2.800000           1.600000   \n",
       "50%             5.800000          3.000000           4.350000   \n",
       "75%             6.400000          3.300000           5.100000   \n",
       "max             7.900000          4.400000           6.900000   \n",
       "\n",
       "       petal width (cm)  \n",
       "count        150.000000  \n",
       "mean           1.199333  \n",
       "std            0.762238  \n",
       "min            0.100000  \n",
       "25%            0.300000  \n",
       "50%            1.300000  \n",
       "75%            1.800000  \n",
       "max            2.500000  "
      ]
     },
     "execution_count": 16,
     "metadata": {},
     "output_type": "execute_result"
    }
   ],
   "source": [
    "df_pd.describe()"
   ]
  },
  {
   "cell_type": "markdown",
   "id": "44163585-6fcf-436e-910c-ea41a66a99fa",
   "metadata": {},
   "source": [
    "## DataFrame - kolumny"
   ]
  },
  {
   "cell_type": "code",
   "execution_count": 17,
   "id": "2540ea3c-05d2-4c54-9af8-e983730bed71",
   "metadata": {},
   "outputs": [
    {
     "name": "stdout",
     "output_type": "stream",
     "text": [
      "Index(['sepal length (cm)', 'sepal width (cm)', 'petal length (cm)',\n",
      "       'petal width (cm)'],\n",
      "      dtype='object')\n"
     ]
    }
   ],
   "source": [
    "print(df_pd.columns)"
   ]
  },
  {
   "cell_type": "markdown",
   "id": "dc502467-3244-4290-836f-de8ca5db3b11",
   "metadata": {},
   "source": [
    "## DataFrame - wymiar danych"
   ]
  },
  {
   "cell_type": "code",
   "execution_count": 18,
   "id": "e41e87cc-75a6-4fb5-adf1-ad1e8a782120",
   "metadata": {},
   "outputs": [
    {
     "name": "stdout",
     "output_type": "stream",
     "text": [
      "(150, 4)\n"
     ]
    }
   ],
   "source": [
    "print(df_pd.shape)"
   ]
  },
  {
   "cell_type": "markdown",
   "id": "bd165e3c-c310-45b0-9403-f81e3d42432d",
   "metadata": {},
   "source": [
    "## DataFrame - Załadowanie danych Iris jako DataFrame (cechy + target w jednym)"
   ]
  },
  {
   "cell_type": "code",
   "execution_count": 19,
   "id": "34b63f39-f439-4b86-baaf-17a2a8bb7230",
   "metadata": {},
   "outputs": [],
   "source": [
    "from sklearn import datasets\n",
    "import pandas as pd\n",
    "\n",
    "# Załadowanie danych Iris jako DataFrame (cechy + target w jednym)\n",
    "iris = datasets.load_iris(as_frame=True)\n",
    "df = iris.frame  # pełny DataFrame z cechami i targetem"
   ]
  },
  {
   "cell_type": "code",
   "execution_count": 20,
   "id": "8cbdcec3-a18e-4132-a4b2-e225003f7df5",
   "metadata": {},
   "outputs": [],
   "source": [
    "# Mapowanie kolumnty target na gatunki roślin odpowiadające wartością liczbowym\n",
    "df['target'] = df['target'].map({0: 'setosa', 1: 'versicolor', 2: 'virginica'})"
   ]
  },
  {
   "cell_type": "code",
   "execution_count": 21,
   "id": "97a55f50-2444-4da2-a35f-4b6410b1d142",
   "metadata": {
    "scrolled": true
   },
   "outputs": [
    {
     "data": {
      "text/html": [
       "<style type=\"text/css\">\n",
       "</style>\n",
       "<table id=\"T_38b28\">\n",
       "  <thead>\n",
       "    <tr>\n",
       "      <th class=\"blank level0\" >&nbsp;</th>\n",
       "      <th id=\"T_38b28_level0_col0\" class=\"col_heading level0 col0\" >sepal length (cm)</th>\n",
       "      <th id=\"T_38b28_level0_col1\" class=\"col_heading level0 col1\" >sepal width (cm)</th>\n",
       "      <th id=\"T_38b28_level0_col2\" class=\"col_heading level0 col2\" >petal length (cm)</th>\n",
       "      <th id=\"T_38b28_level0_col3\" class=\"col_heading level0 col3\" >petal width (cm)</th>\n",
       "      <th id=\"T_38b28_level0_col4\" class=\"col_heading level0 col4\" >target</th>\n",
       "    </tr>\n",
       "  </thead>\n",
       "  <tbody>\n",
       "    <tr>\n",
       "      <th id=\"T_38b28_level0_row0\" class=\"row_heading level0 row0\" >0</th>\n",
       "      <td id=\"T_38b28_row0_col0\" class=\"data row0 col0\" >5.100000</td>\n",
       "      <td id=\"T_38b28_row0_col1\" class=\"data row0 col1\" >3.500000</td>\n",
       "      <td id=\"T_38b28_row0_col2\" class=\"data row0 col2\" >1.400000</td>\n",
       "      <td id=\"T_38b28_row0_col3\" class=\"data row0 col3\" >0.200000</td>\n",
       "      <td id=\"T_38b28_row0_col4\" class=\"data row0 col4\" >setosa</td>\n",
       "    </tr>\n",
       "    <tr>\n",
       "      <th id=\"T_38b28_level0_row1\" class=\"row_heading level0 row1\" >1</th>\n",
       "      <td id=\"T_38b28_row1_col0\" class=\"data row1 col0\" >4.900000</td>\n",
       "      <td id=\"T_38b28_row1_col1\" class=\"data row1 col1\" >3.000000</td>\n",
       "      <td id=\"T_38b28_row1_col2\" class=\"data row1 col2\" >1.400000</td>\n",
       "      <td id=\"T_38b28_row1_col3\" class=\"data row1 col3\" >0.200000</td>\n",
       "      <td id=\"T_38b28_row1_col4\" class=\"data row1 col4\" >setosa</td>\n",
       "    </tr>\n",
       "    <tr>\n",
       "      <th id=\"T_38b28_level0_row2\" class=\"row_heading level0 row2\" >2</th>\n",
       "      <td id=\"T_38b28_row2_col0\" class=\"data row2 col0\" >4.700000</td>\n",
       "      <td id=\"T_38b28_row2_col1\" class=\"data row2 col1\" >3.200000</td>\n",
       "      <td id=\"T_38b28_row2_col2\" class=\"data row2 col2\" >1.300000</td>\n",
       "      <td id=\"T_38b28_row2_col3\" class=\"data row2 col3\" >0.200000</td>\n",
       "      <td id=\"T_38b28_row2_col4\" class=\"data row2 col4\" >setosa</td>\n",
       "    </tr>\n",
       "    <tr>\n",
       "      <th id=\"T_38b28_level0_row3\" class=\"row_heading level0 row3\" >3</th>\n",
       "      <td id=\"T_38b28_row3_col0\" class=\"data row3 col0\" >4.600000</td>\n",
       "      <td id=\"T_38b28_row3_col1\" class=\"data row3 col1\" >3.100000</td>\n",
       "      <td id=\"T_38b28_row3_col2\" class=\"data row3 col2\" >1.500000</td>\n",
       "      <td id=\"T_38b28_row3_col3\" class=\"data row3 col3\" >0.200000</td>\n",
       "      <td id=\"T_38b28_row3_col4\" class=\"data row3 col4\" >setosa</td>\n",
       "    </tr>\n",
       "    <tr>\n",
       "      <th id=\"T_38b28_level0_row4\" class=\"row_heading level0 row4\" >4</th>\n",
       "      <td id=\"T_38b28_row4_col0\" class=\"data row4 col0\" >5.000000</td>\n",
       "      <td id=\"T_38b28_row4_col1\" class=\"data row4 col1\" >3.600000</td>\n",
       "      <td id=\"T_38b28_row4_col2\" class=\"data row4 col2\" >1.400000</td>\n",
       "      <td id=\"T_38b28_row4_col3\" class=\"data row4 col3\" >0.200000</td>\n",
       "      <td id=\"T_38b28_row4_col4\" class=\"data row4 col4\" >setosa</td>\n",
       "    </tr>\n",
       "  </tbody>\n",
       "</table>\n"
      ],
      "text/plain": [
       "<pandas.io.formats.style.Styler at 0x7f7239a14640>"
      ]
     },
     "execution_count": 21,
     "metadata": {},
     "output_type": "execute_result"
    }
   ],
   "source": [
    "df.head().style"
   ]
  },
  {
   "cell_type": "markdown",
   "id": "7b1c95e6-7348-4336-807a-816a836f8059",
   "metadata": {},
   "source": [
    "## DataFrame - analiza ilościowa gatunków"
   ]
  },
  {
   "cell_type": "code",
   "execution_count": 22,
   "id": "fe7c0576-37f8-4ebe-88b2-4e68cb8b1711",
   "metadata": {},
   "outputs": [
    {
     "name": "stdout",
     "output_type": "stream",
     "text": [
      "target\n",
      "setosa        50\n",
      "versicolor    50\n",
      "virginica     50\n",
      "Name: count, dtype: int64\n"
     ]
    }
   ],
   "source": [
    "print(df['target'].value_counts())"
   ]
  }
 ],
 "metadata": {
  "kernelspec": {
   "display_name": "Python 3 (ipykernel)",
   "language": "python",
   "name": "python3"
  },
  "language_info": {
   "codemirror_mode": {
    "name": "ipython",
    "version": 3
   },
   "file_extension": ".py",
   "mimetype": "text/x-python",
   "name": "python",
   "nbconvert_exporter": "python",
   "pygments_lexer": "ipython3",
   "version": "3.8.12"
  }
 },
 "nbformat": 4,
 "nbformat_minor": 5
}
